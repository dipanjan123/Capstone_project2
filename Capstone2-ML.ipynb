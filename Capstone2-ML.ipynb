{
 "cells": [
  {
   "cell_type": "code",
   "execution_count": 1,
   "metadata": {},
   "outputs": [
    {
     "name": "stderr",
     "output_type": "stream",
     "text": [
      "/Users/dipanjanbandyopadhyay/anaconda3/lib/python3.6/site-packages/sklearn/cross_validation.py:41: DeprecationWarning: This module was deprecated in version 0.18 in favor of the model_selection module into which all the refactored classes and functions are moved. Also note that the interface of the new CV iterators are different from that of this module. This module will be removed in 0.20.\n",
      "  \"This module will be removed in 0.20.\", DeprecationWarning)\n"
     ]
    }
   ],
   "source": [
    "#Import pandas,json and numpy\n",
    "import pandas as pd\n",
    "import numpy as np\n",
    "import matplotlib.pyplot as plt\n",
    "import seaborn as sns\n",
    "from scipy import stats\n",
    "from sklearn.metrics import confusion_matrix, classification_report\n",
    "from sklearn.metrics import roc_curve, roc_curve,auc\n",
    "sns.set(style=\"whitegrid\", color_codes=True)\n",
    "import sklearn\n",
    "import pickle\n",
    "from sklearn.preprocessing import LabelEncoder\n",
    "from sklearn import preprocessing\n",
    "from sklearn import model_selection\n",
    "from sklearn.linear_model import LogisticRegression\n",
    "from sklearn import metrics\n",
    "from sklearn import cross_validation"
   ]
  },
  {
   "cell_type": "code",
   "execution_count": 2,
   "metadata": {
    "collapsed": true
   },
   "outputs": [],
   "source": [
    "# Load the dataset\n",
    "# There are 4 datasets. We will use the bank_full and bank_additional_full\n",
    "df_full = pd.read_csv('bank-full.csv',sep=';')\n",
    "df_addi_full = pd.read_csv('bank-additional-full.csv',sep=';')"
   ]
  },
  {
   "cell_type": "code",
   "execution_count": 3,
   "metadata": {},
   "outputs": [
    {
     "data": {
      "text/html": [
       "<div>\n",
       "<style>\n",
       "    .dataframe thead tr:only-child th {\n",
       "        text-align: right;\n",
       "    }\n",
       "\n",
       "    .dataframe thead th {\n",
       "        text-align: left;\n",
       "    }\n",
       "\n",
       "    .dataframe tbody tr th {\n",
       "        vertical-align: top;\n",
       "    }\n",
       "</style>\n",
       "<table border=\"1\" class=\"dataframe\">\n",
       "  <thead>\n",
       "    <tr style=\"text-align: right;\">\n",
       "      <th></th>\n",
       "      <th>age</th>\n",
       "      <th>job</th>\n",
       "      <th>marital</th>\n",
       "      <th>education</th>\n",
       "      <th>default</th>\n",
       "      <th>housing</th>\n",
       "      <th>loan</th>\n",
       "      <th>contact</th>\n",
       "      <th>month</th>\n",
       "      <th>day_of_week</th>\n",
       "      <th>...</th>\n",
       "      <th>cons.conf.idx</th>\n",
       "      <th>euribor3m</th>\n",
       "      <th>nr.employed</th>\n",
       "      <th>y</th>\n",
       "      <th>Conf_index_range_neg</th>\n",
       "      <th>euribor3m_range</th>\n",
       "      <th>cons_price_range</th>\n",
       "      <th>duration_range</th>\n",
       "      <th>age_binned</th>\n",
       "      <th>y_dummy</th>\n",
       "    </tr>\n",
       "  </thead>\n",
       "  <tbody>\n",
       "    <tr>\n",
       "      <th>0</th>\n",
       "      <td>56</td>\n",
       "      <td>housemaid</td>\n",
       "      <td>married</td>\n",
       "      <td>basic.4y</td>\n",
       "      <td>no</td>\n",
       "      <td>no</td>\n",
       "      <td>no</td>\n",
       "      <td>telephone</td>\n",
       "      <td>may</td>\n",
       "      <td>mon</td>\n",
       "      <td>...</td>\n",
       "      <td>-36.4</td>\n",
       "      <td>4.857</td>\n",
       "      <td>5191.0</td>\n",
       "      <td>no</td>\n",
       "      <td>40-35</td>\n",
       "      <td>4-5</td>\n",
       "      <td>93-94</td>\n",
       "      <td>0-10</td>\n",
       "      <td>senior</td>\n",
       "      <td>0</td>\n",
       "    </tr>\n",
       "    <tr>\n",
       "      <th>1</th>\n",
       "      <td>57</td>\n",
       "      <td>services</td>\n",
       "      <td>married</td>\n",
       "      <td>high.school</td>\n",
       "      <td>unknown</td>\n",
       "      <td>no</td>\n",
       "      <td>no</td>\n",
       "      <td>telephone</td>\n",
       "      <td>may</td>\n",
       "      <td>mon</td>\n",
       "      <td>...</td>\n",
       "      <td>-36.4</td>\n",
       "      <td>4.857</td>\n",
       "      <td>5191.0</td>\n",
       "      <td>no</td>\n",
       "      <td>40-35</td>\n",
       "      <td>4-5</td>\n",
       "      <td>93-94</td>\n",
       "      <td>0-10</td>\n",
       "      <td>senior</td>\n",
       "      <td>0</td>\n",
       "    </tr>\n",
       "    <tr>\n",
       "      <th>2</th>\n",
       "      <td>37</td>\n",
       "      <td>services</td>\n",
       "      <td>married</td>\n",
       "      <td>high.school</td>\n",
       "      <td>no</td>\n",
       "      <td>yes</td>\n",
       "      <td>no</td>\n",
       "      <td>telephone</td>\n",
       "      <td>may</td>\n",
       "      <td>mon</td>\n",
       "      <td>...</td>\n",
       "      <td>-36.4</td>\n",
       "      <td>4.857</td>\n",
       "      <td>5191.0</td>\n",
       "      <td>no</td>\n",
       "      <td>40-35</td>\n",
       "      <td>4-5</td>\n",
       "      <td>93-94</td>\n",
       "      <td>0-10</td>\n",
       "      <td>lower middle</td>\n",
       "      <td>0</td>\n",
       "    </tr>\n",
       "    <tr>\n",
       "      <th>3</th>\n",
       "      <td>40</td>\n",
       "      <td>admin.</td>\n",
       "      <td>married</td>\n",
       "      <td>basic.6y</td>\n",
       "      <td>no</td>\n",
       "      <td>no</td>\n",
       "      <td>no</td>\n",
       "      <td>telephone</td>\n",
       "      <td>may</td>\n",
       "      <td>mon</td>\n",
       "      <td>...</td>\n",
       "      <td>-36.4</td>\n",
       "      <td>4.857</td>\n",
       "      <td>5191.0</td>\n",
       "      <td>no</td>\n",
       "      <td>40-35</td>\n",
       "      <td>4-5</td>\n",
       "      <td>93-94</td>\n",
       "      <td>0-10</td>\n",
       "      <td>middle</td>\n",
       "      <td>0</td>\n",
       "    </tr>\n",
       "    <tr>\n",
       "      <th>4</th>\n",
       "      <td>56</td>\n",
       "      <td>services</td>\n",
       "      <td>married</td>\n",
       "      <td>high.school</td>\n",
       "      <td>no</td>\n",
       "      <td>no</td>\n",
       "      <td>yes</td>\n",
       "      <td>telephone</td>\n",
       "      <td>may</td>\n",
       "      <td>mon</td>\n",
       "      <td>...</td>\n",
       "      <td>-36.4</td>\n",
       "      <td>4.857</td>\n",
       "      <td>5191.0</td>\n",
       "      <td>no</td>\n",
       "      <td>40-35</td>\n",
       "      <td>4-5</td>\n",
       "      <td>93-94</td>\n",
       "      <td>0-10</td>\n",
       "      <td>senior</td>\n",
       "      <td>0</td>\n",
       "    </tr>\n",
       "    <tr>\n",
       "      <th>5</th>\n",
       "      <td>45</td>\n",
       "      <td>services</td>\n",
       "      <td>married</td>\n",
       "      <td>basic.9y</td>\n",
       "      <td>unknown</td>\n",
       "      <td>no</td>\n",
       "      <td>no</td>\n",
       "      <td>telephone</td>\n",
       "      <td>may</td>\n",
       "      <td>mon</td>\n",
       "      <td>...</td>\n",
       "      <td>-36.4</td>\n",
       "      <td>4.857</td>\n",
       "      <td>5191.0</td>\n",
       "      <td>no</td>\n",
       "      <td>40-35</td>\n",
       "      <td>4-5</td>\n",
       "      <td>93-94</td>\n",
       "      <td>0-10</td>\n",
       "      <td>middle</td>\n",
       "      <td>0</td>\n",
       "    </tr>\n",
       "    <tr>\n",
       "      <th>6</th>\n",
       "      <td>59</td>\n",
       "      <td>admin.</td>\n",
       "      <td>married</td>\n",
       "      <td>professional.course</td>\n",
       "      <td>no</td>\n",
       "      <td>no</td>\n",
       "      <td>no</td>\n",
       "      <td>telephone</td>\n",
       "      <td>may</td>\n",
       "      <td>mon</td>\n",
       "      <td>...</td>\n",
       "      <td>-36.4</td>\n",
       "      <td>4.857</td>\n",
       "      <td>5191.0</td>\n",
       "      <td>no</td>\n",
       "      <td>40-35</td>\n",
       "      <td>4-5</td>\n",
       "      <td>93-94</td>\n",
       "      <td>0-10</td>\n",
       "      <td>senior</td>\n",
       "      <td>0</td>\n",
       "    </tr>\n",
       "    <tr>\n",
       "      <th>7</th>\n",
       "      <td>41</td>\n",
       "      <td>blue-collar</td>\n",
       "      <td>married</td>\n",
       "      <td>unknown</td>\n",
       "      <td>unknown</td>\n",
       "      <td>no</td>\n",
       "      <td>no</td>\n",
       "      <td>telephone</td>\n",
       "      <td>may</td>\n",
       "      <td>mon</td>\n",
       "      <td>...</td>\n",
       "      <td>-36.4</td>\n",
       "      <td>4.857</td>\n",
       "      <td>5191.0</td>\n",
       "      <td>no</td>\n",
       "      <td>40-35</td>\n",
       "      <td>4-5</td>\n",
       "      <td>93-94</td>\n",
       "      <td>0-10</td>\n",
       "      <td>middle</td>\n",
       "      <td>0</td>\n",
       "    </tr>\n",
       "    <tr>\n",
       "      <th>8</th>\n",
       "      <td>24</td>\n",
       "      <td>technician</td>\n",
       "      <td>single</td>\n",
       "      <td>professional.course</td>\n",
       "      <td>no</td>\n",
       "      <td>yes</td>\n",
       "      <td>no</td>\n",
       "      <td>telephone</td>\n",
       "      <td>may</td>\n",
       "      <td>mon</td>\n",
       "      <td>...</td>\n",
       "      <td>-36.4</td>\n",
       "      <td>4.857</td>\n",
       "      <td>5191.0</td>\n",
       "      <td>no</td>\n",
       "      <td>40-35</td>\n",
       "      <td>4-5</td>\n",
       "      <td>93-94</td>\n",
       "      <td>0-10</td>\n",
       "      <td>young</td>\n",
       "      <td>0</td>\n",
       "    </tr>\n",
       "    <tr>\n",
       "      <th>9</th>\n",
       "      <td>25</td>\n",
       "      <td>services</td>\n",
       "      <td>single</td>\n",
       "      <td>high.school</td>\n",
       "      <td>no</td>\n",
       "      <td>yes</td>\n",
       "      <td>no</td>\n",
       "      <td>telephone</td>\n",
       "      <td>may</td>\n",
       "      <td>mon</td>\n",
       "      <td>...</td>\n",
       "      <td>-36.4</td>\n",
       "      <td>4.857</td>\n",
       "      <td>5191.0</td>\n",
       "      <td>no</td>\n",
       "      <td>40-35</td>\n",
       "      <td>4-5</td>\n",
       "      <td>93-94</td>\n",
       "      <td>0-10</td>\n",
       "      <td>young</td>\n",
       "      <td>0</td>\n",
       "    </tr>\n",
       "    <tr>\n",
       "      <th>10</th>\n",
       "      <td>41</td>\n",
       "      <td>blue-collar</td>\n",
       "      <td>married</td>\n",
       "      <td>unknown</td>\n",
       "      <td>unknown</td>\n",
       "      <td>no</td>\n",
       "      <td>no</td>\n",
       "      <td>telephone</td>\n",
       "      <td>may</td>\n",
       "      <td>mon</td>\n",
       "      <td>...</td>\n",
       "      <td>-36.4</td>\n",
       "      <td>4.857</td>\n",
       "      <td>5191.0</td>\n",
       "      <td>no</td>\n",
       "      <td>40-35</td>\n",
       "      <td>4-5</td>\n",
       "      <td>93-94</td>\n",
       "      <td>0-10</td>\n",
       "      <td>middle</td>\n",
       "      <td>0</td>\n",
       "    </tr>\n",
       "    <tr>\n",
       "      <th>11</th>\n",
       "      <td>25</td>\n",
       "      <td>services</td>\n",
       "      <td>single</td>\n",
       "      <td>high.school</td>\n",
       "      <td>no</td>\n",
       "      <td>yes</td>\n",
       "      <td>no</td>\n",
       "      <td>telephone</td>\n",
       "      <td>may</td>\n",
       "      <td>mon</td>\n",
       "      <td>...</td>\n",
       "      <td>-36.4</td>\n",
       "      <td>4.857</td>\n",
       "      <td>5191.0</td>\n",
       "      <td>no</td>\n",
       "      <td>40-35</td>\n",
       "      <td>4-5</td>\n",
       "      <td>93-94</td>\n",
       "      <td>0-10</td>\n",
       "      <td>young</td>\n",
       "      <td>0</td>\n",
       "    </tr>\n",
       "    <tr>\n",
       "      <th>12</th>\n",
       "      <td>29</td>\n",
       "      <td>blue-collar</td>\n",
       "      <td>single</td>\n",
       "      <td>high.school</td>\n",
       "      <td>no</td>\n",
       "      <td>no</td>\n",
       "      <td>yes</td>\n",
       "      <td>telephone</td>\n",
       "      <td>may</td>\n",
       "      <td>mon</td>\n",
       "      <td>...</td>\n",
       "      <td>-36.4</td>\n",
       "      <td>4.857</td>\n",
       "      <td>5191.0</td>\n",
       "      <td>no</td>\n",
       "      <td>40-35</td>\n",
       "      <td>4-5</td>\n",
       "      <td>93-94</td>\n",
       "      <td>0-10</td>\n",
       "      <td>young</td>\n",
       "      <td>0</td>\n",
       "    </tr>\n",
       "    <tr>\n",
       "      <th>13</th>\n",
       "      <td>57</td>\n",
       "      <td>housemaid</td>\n",
       "      <td>divorced</td>\n",
       "      <td>basic.4y</td>\n",
       "      <td>no</td>\n",
       "      <td>yes</td>\n",
       "      <td>no</td>\n",
       "      <td>telephone</td>\n",
       "      <td>may</td>\n",
       "      <td>mon</td>\n",
       "      <td>...</td>\n",
       "      <td>-36.4</td>\n",
       "      <td>4.857</td>\n",
       "      <td>5191.0</td>\n",
       "      <td>no</td>\n",
       "      <td>40-35</td>\n",
       "      <td>4-5</td>\n",
       "      <td>93-94</td>\n",
       "      <td>0-10</td>\n",
       "      <td>senior</td>\n",
       "      <td>0</td>\n",
       "    </tr>\n",
       "    <tr>\n",
       "      <th>14</th>\n",
       "      <td>35</td>\n",
       "      <td>blue-collar</td>\n",
       "      <td>married</td>\n",
       "      <td>basic.6y</td>\n",
       "      <td>no</td>\n",
       "      <td>yes</td>\n",
       "      <td>no</td>\n",
       "      <td>telephone</td>\n",
       "      <td>may</td>\n",
       "      <td>mon</td>\n",
       "      <td>...</td>\n",
       "      <td>-36.4</td>\n",
       "      <td>4.857</td>\n",
       "      <td>5191.0</td>\n",
       "      <td>no</td>\n",
       "      <td>40-35</td>\n",
       "      <td>4-5</td>\n",
       "      <td>93-94</td>\n",
       "      <td>0-10</td>\n",
       "      <td>lower middle</td>\n",
       "      <td>0</td>\n",
       "    </tr>\n",
       "    <tr>\n",
       "      <th>15</th>\n",
       "      <td>54</td>\n",
       "      <td>retired</td>\n",
       "      <td>married</td>\n",
       "      <td>basic.9y</td>\n",
       "      <td>unknown</td>\n",
       "      <td>yes</td>\n",
       "      <td>yes</td>\n",
       "      <td>telephone</td>\n",
       "      <td>may</td>\n",
       "      <td>mon</td>\n",
       "      <td>...</td>\n",
       "      <td>-36.4</td>\n",
       "      <td>4.857</td>\n",
       "      <td>5191.0</td>\n",
       "      <td>no</td>\n",
       "      <td>40-35</td>\n",
       "      <td>4-5</td>\n",
       "      <td>93-94</td>\n",
       "      <td>0-10</td>\n",
       "      <td>senior</td>\n",
       "      <td>0</td>\n",
       "    </tr>\n",
       "    <tr>\n",
       "      <th>16</th>\n",
       "      <td>35</td>\n",
       "      <td>blue-collar</td>\n",
       "      <td>married</td>\n",
       "      <td>basic.6y</td>\n",
       "      <td>no</td>\n",
       "      <td>yes</td>\n",
       "      <td>no</td>\n",
       "      <td>telephone</td>\n",
       "      <td>may</td>\n",
       "      <td>mon</td>\n",
       "      <td>...</td>\n",
       "      <td>-36.4</td>\n",
       "      <td>4.857</td>\n",
       "      <td>5191.0</td>\n",
       "      <td>no</td>\n",
       "      <td>40-35</td>\n",
       "      <td>4-5</td>\n",
       "      <td>93-94</td>\n",
       "      <td>0-10</td>\n",
       "      <td>lower middle</td>\n",
       "      <td>0</td>\n",
       "    </tr>\n",
       "    <tr>\n",
       "      <th>17</th>\n",
       "      <td>46</td>\n",
       "      <td>blue-collar</td>\n",
       "      <td>married</td>\n",
       "      <td>basic.6y</td>\n",
       "      <td>unknown</td>\n",
       "      <td>yes</td>\n",
       "      <td>yes</td>\n",
       "      <td>telephone</td>\n",
       "      <td>may</td>\n",
       "      <td>mon</td>\n",
       "      <td>...</td>\n",
       "      <td>-36.4</td>\n",
       "      <td>4.857</td>\n",
       "      <td>5191.0</td>\n",
       "      <td>no</td>\n",
       "      <td>40-35</td>\n",
       "      <td>4-5</td>\n",
       "      <td>93-94</td>\n",
       "      <td>0-10</td>\n",
       "      <td>middle</td>\n",
       "      <td>0</td>\n",
       "    </tr>\n",
       "    <tr>\n",
       "      <th>18</th>\n",
       "      <td>50</td>\n",
       "      <td>blue-collar</td>\n",
       "      <td>married</td>\n",
       "      <td>basic.9y</td>\n",
       "      <td>no</td>\n",
       "      <td>yes</td>\n",
       "      <td>yes</td>\n",
       "      <td>telephone</td>\n",
       "      <td>may</td>\n",
       "      <td>mon</td>\n",
       "      <td>...</td>\n",
       "      <td>-36.4</td>\n",
       "      <td>4.857</td>\n",
       "      <td>5191.0</td>\n",
       "      <td>no</td>\n",
       "      <td>40-35</td>\n",
       "      <td>4-5</td>\n",
       "      <td>93-94</td>\n",
       "      <td>0-10</td>\n",
       "      <td>senior</td>\n",
       "      <td>0</td>\n",
       "    </tr>\n",
       "    <tr>\n",
       "      <th>19</th>\n",
       "      <td>39</td>\n",
       "      <td>management</td>\n",
       "      <td>single</td>\n",
       "      <td>basic.9y</td>\n",
       "      <td>unknown</td>\n",
       "      <td>no</td>\n",
       "      <td>no</td>\n",
       "      <td>telephone</td>\n",
       "      <td>may</td>\n",
       "      <td>mon</td>\n",
       "      <td>...</td>\n",
       "      <td>-36.4</td>\n",
       "      <td>4.857</td>\n",
       "      <td>5191.0</td>\n",
       "      <td>no</td>\n",
       "      <td>40-35</td>\n",
       "      <td>4-5</td>\n",
       "      <td>93-94</td>\n",
       "      <td>0-10</td>\n",
       "      <td>middle</td>\n",
       "      <td>0</td>\n",
       "    </tr>\n",
       "  </tbody>\n",
       "</table>\n",
       "<p>20 rows × 27 columns</p>\n",
       "</div>"
      ],
      "text/plain": [
       "    age          job   marital            education  default housing loan  \\\n",
       "0    56    housemaid   married             basic.4y       no      no   no   \n",
       "1    57     services   married          high.school  unknown      no   no   \n",
       "2    37     services   married          high.school       no     yes   no   \n",
       "3    40       admin.   married             basic.6y       no      no   no   \n",
       "4    56     services   married          high.school       no      no  yes   \n",
       "5    45     services   married             basic.9y  unknown      no   no   \n",
       "6    59       admin.   married  professional.course       no      no   no   \n",
       "7    41  blue-collar   married              unknown  unknown      no   no   \n",
       "8    24   technician    single  professional.course       no     yes   no   \n",
       "9    25     services    single          high.school       no     yes   no   \n",
       "10   41  blue-collar   married              unknown  unknown      no   no   \n",
       "11   25     services    single          high.school       no     yes   no   \n",
       "12   29  blue-collar    single          high.school       no      no  yes   \n",
       "13   57    housemaid  divorced             basic.4y       no     yes   no   \n",
       "14   35  blue-collar   married             basic.6y       no     yes   no   \n",
       "15   54      retired   married             basic.9y  unknown     yes  yes   \n",
       "16   35  blue-collar   married             basic.6y       no     yes   no   \n",
       "17   46  blue-collar   married             basic.6y  unknown     yes  yes   \n",
       "18   50  blue-collar   married             basic.9y       no     yes  yes   \n",
       "19   39   management    single             basic.9y  unknown      no   no   \n",
       "\n",
       "      contact month day_of_week   ...     cons.conf.idx  euribor3m  \\\n",
       "0   telephone   may         mon   ...             -36.4      4.857   \n",
       "1   telephone   may         mon   ...             -36.4      4.857   \n",
       "2   telephone   may         mon   ...             -36.4      4.857   \n",
       "3   telephone   may         mon   ...             -36.4      4.857   \n",
       "4   telephone   may         mon   ...             -36.4      4.857   \n",
       "5   telephone   may         mon   ...             -36.4      4.857   \n",
       "6   telephone   may         mon   ...             -36.4      4.857   \n",
       "7   telephone   may         mon   ...             -36.4      4.857   \n",
       "8   telephone   may         mon   ...             -36.4      4.857   \n",
       "9   telephone   may         mon   ...             -36.4      4.857   \n",
       "10  telephone   may         mon   ...             -36.4      4.857   \n",
       "11  telephone   may         mon   ...             -36.4      4.857   \n",
       "12  telephone   may         mon   ...             -36.4      4.857   \n",
       "13  telephone   may         mon   ...             -36.4      4.857   \n",
       "14  telephone   may         mon   ...             -36.4      4.857   \n",
       "15  telephone   may         mon   ...             -36.4      4.857   \n",
       "16  telephone   may         mon   ...             -36.4      4.857   \n",
       "17  telephone   may         mon   ...             -36.4      4.857   \n",
       "18  telephone   may         mon   ...             -36.4      4.857   \n",
       "19  telephone   may         mon   ...             -36.4      4.857   \n",
       "\n",
       "    nr.employed   y Conf_index_range_neg  euribor3m_range  cons_price_range  \\\n",
       "0        5191.0  no                40-35              4-5             93-94   \n",
       "1        5191.0  no                40-35              4-5             93-94   \n",
       "2        5191.0  no                40-35              4-5             93-94   \n",
       "3        5191.0  no                40-35              4-5             93-94   \n",
       "4        5191.0  no                40-35              4-5             93-94   \n",
       "5        5191.0  no                40-35              4-5             93-94   \n",
       "6        5191.0  no                40-35              4-5             93-94   \n",
       "7        5191.0  no                40-35              4-5             93-94   \n",
       "8        5191.0  no                40-35              4-5             93-94   \n",
       "9        5191.0  no                40-35              4-5             93-94   \n",
       "10       5191.0  no                40-35              4-5             93-94   \n",
       "11       5191.0  no                40-35              4-5             93-94   \n",
       "12       5191.0  no                40-35              4-5             93-94   \n",
       "13       5191.0  no                40-35              4-5             93-94   \n",
       "14       5191.0  no                40-35              4-5             93-94   \n",
       "15       5191.0  no                40-35              4-5             93-94   \n",
       "16       5191.0  no                40-35              4-5             93-94   \n",
       "17       5191.0  no                40-35              4-5             93-94   \n",
       "18       5191.0  no                40-35              4-5             93-94   \n",
       "19       5191.0  no                40-35              4-5             93-94   \n",
       "\n",
       "    duration_range    age_binned  y_dummy  \n",
       "0             0-10        senior        0  \n",
       "1             0-10        senior        0  \n",
       "2             0-10  lower middle        0  \n",
       "3             0-10        middle        0  \n",
       "4             0-10        senior        0  \n",
       "5             0-10        middle        0  \n",
       "6             0-10        senior        0  \n",
       "7             0-10        middle        0  \n",
       "8             0-10         young        0  \n",
       "9             0-10         young        0  \n",
       "10            0-10        middle        0  \n",
       "11            0-10         young        0  \n",
       "12            0-10         young        0  \n",
       "13            0-10        senior        0  \n",
       "14            0-10  lower middle        0  \n",
       "15            0-10        senior        0  \n",
       "16            0-10  lower middle        0  \n",
       "17            0-10        middle        0  \n",
       "18            0-10        senior        0  \n",
       "19            0-10        middle        0  \n",
       "\n",
       "[20 rows x 27 columns]"
      ]
     },
     "execution_count": 3,
     "metadata": {},
     "output_type": "execute_result"
    }
   ],
   "source": [
    "# Create a new Consumer confidence index range column. Its values are negative.\n",
    "df_addi_full['Conf_index_range_neg'] = pd.cut(df_addi_full['cons.conf.idx'], bins=[-55,-50,-45,-40,-35,-30,-25], labels=['55-50','50-45','45-40','40-35','35-30','30-25'])\n",
    "# Create a new Euribor3m range column\n",
    "df_addi_full['euribor3m_range'] = pd.cut(df_addi_full.euribor3m, bins=[0,1,2,3,4,5], labels=['0-1','1-2','2-3','3-4','4-5'])\n",
    "# Create a consumer price index range column\n",
    "df_addi_full['cons_price_range'] = pd.cut(df_addi_full['cons.price.idx'], bins=[92,93,94,95], labels=['92-93','93-94','94-95'])\n",
    "# Create Duration range \n",
    "df_addi_full['duration_range'] = pd.cut(df_addi_full['duration'], bins=[0,600,1200,1800,2400,3000,3600,4200,4800,5400], labels=['0-10','10-20','20-30','30-40','40-50','50-60','60-70','70-80','80-90'])\n",
    "# Create age groups\n",
    "age_group_names = ['young', 'lower middle', 'middle', 'senior']\n",
    "df_addi_full['age_binned'] = pd.qcut(df_addi_full['age'], 4, labels = age_group_names)\n",
    "df_addi_full['age_binned'].value_counts()\n",
    "#Describing dummy keys of the output variable column\n",
    "y_n_lookup ={'yes' : 1, 'no' : 0}\n",
    "df_addi_full['y_dummy'] = df_addi_full['y'].map(lambda x: y_n_lookup[x])\n",
    "df_addi_full['y_dummy'].value_counts()\n",
    "# Check the df\n",
    "df_addi_full.head(20)"
   ]
  },
  {
   "cell_type": "code",
   "execution_count": 4,
   "metadata": {},
   "outputs": [
    {
     "name": "stdout",
     "output_type": "stream",
     "text": [
      "<class 'pandas.core.frame.DataFrame'>\n",
      "RangeIndex: 45211 entries, 0 to 45210\n",
      "Data columns (total 17 columns):\n",
      "age          45211 non-null int64\n",
      "job          45211 non-null object\n",
      "marital      45211 non-null object\n",
      "education    45211 non-null object\n",
      "default      45211 non-null object\n",
      "balance      45211 non-null int64\n",
      "housing      45211 non-null object\n",
      "loan         45211 non-null object\n",
      "contact      45211 non-null object\n",
      "day          45211 non-null int64\n",
      "month        45211 non-null object\n",
      "duration     45211 non-null int64\n",
      "campaign     45211 non-null int64\n",
      "pdays        45211 non-null int64\n",
      "previous     45211 non-null int64\n",
      "poutcome     45211 non-null object\n",
      "y            45211 non-null object\n",
      "dtypes: int64(7), object(10)\n",
      "memory usage: 5.9+ MB\n"
     ]
    }
   ],
   "source": [
    "df_full.info()"
   ]
  },
  {
   "cell_type": "code",
   "execution_count": 5,
   "metadata": {},
   "outputs": [
    {
     "name": "stdout",
     "output_type": "stream",
     "text": [
      "<class 'pandas.core.frame.DataFrame'>\n",
      "RangeIndex: 41188 entries, 0 to 41187\n",
      "Data columns (total 27 columns):\n",
      "age                     41188 non-null int64\n",
      "job                     41188 non-null object\n",
      "marital                 41188 non-null object\n",
      "education               41188 non-null object\n",
      "default                 41188 non-null object\n",
      "housing                 41188 non-null object\n",
      "loan                    41188 non-null object\n",
      "contact                 41188 non-null object\n",
      "month                   41188 non-null object\n",
      "day_of_week             41188 non-null object\n",
      "duration                41188 non-null int64\n",
      "campaign                41188 non-null int64\n",
      "pdays                   41188 non-null int64\n",
      "previous                41188 non-null int64\n",
      "poutcome                41188 non-null object\n",
      "emp.var.rate            41188 non-null float64\n",
      "cons.price.idx          41188 non-null float64\n",
      "cons.conf.idx           41188 non-null float64\n",
      "euribor3m               41188 non-null float64\n",
      "nr.employed             41188 non-null float64\n",
      "y                       41188 non-null object\n",
      "Conf_index_range_neg    41188 non-null category\n",
      "euribor3m_range         41179 non-null category\n",
      "cons_price_range        41188 non-null category\n",
      "duration_range          41184 non-null category\n",
      "age_binned              41188 non-null category\n",
      "y_dummy                 41188 non-null int64\n",
      "dtypes: category(5), float64(5), int64(6), object(11)\n",
      "memory usage: 7.1+ MB\n"
     ]
    }
   ],
   "source": [
    "df_addi_full.info()"
   ]
  },
  {
   "cell_type": "code",
   "execution_count": 6,
   "metadata": {},
   "outputs": [
    {
     "data": {
      "text/plain": [
       "Index(['age', 'job', 'marital', 'education', 'default', 'housing', 'loan',\n",
       "       'contact', 'month', 'day_of_week', 'duration', 'campaign', 'pdays',\n",
       "       'previous', 'poutcome', 'emp.var.rate', 'cons.price.idx',\n",
       "       'cons.conf.idx', 'euribor3m', 'nr.employed', 'y',\n",
       "       'Conf_index_range_neg', 'euribor3m_range', 'cons_price_range',\n",
       "       'duration_range', 'age_binned', 'y_dummy'],\n",
       "      dtype='object')"
      ]
     },
     "execution_count": 6,
     "metadata": {},
     "output_type": "execute_result"
    }
   ],
   "source": [
    "df_addi_full.columns"
   ]
  },
  {
   "cell_type": "code",
   "execution_count": 7,
   "metadata": {},
   "outputs": [
    {
     "data": {
      "text/plain": [
       "(41188, 27)"
      ]
     },
     "execution_count": 7,
     "metadata": {},
     "output_type": "execute_result"
    }
   ],
   "source": [
    "df_addi_full.shape"
   ]
  },
  {
   "cell_type": "code",
   "execution_count": 8,
   "metadata": {},
   "outputs": [
    {
     "data": {
      "text/plain": [
       "(45211, 17)"
      ]
     },
     "execution_count": 8,
     "metadata": {},
     "output_type": "execute_result"
    }
   ],
   "source": [
    "df_full.shape"
   ]
  },
  {
   "cell_type": "code",
   "execution_count": 9,
   "metadata": {
    "collapsed": true
   },
   "outputs": [],
   "source": [
    "data = df_addi_full[['age','job', 'duration','marital', 'education', 'campaign', 'pdays','previous', 'poutcome','emp.var.rate', 'cons.price.idx',\n",
    "       'cons.conf.idx', 'euribor3m', 'nr.employed','default','loan','housing']]"
   ]
  },
  {
   "cell_type": "code",
   "execution_count": 10,
   "metadata": {
    "collapsed": true
   },
   "outputs": [],
   "source": [
    "le = preprocessing.LabelEncoder()"
   ]
  },
  {
   "cell_type": "code",
   "execution_count": 11,
   "metadata": {},
   "outputs": [
    {
     "name": "stderr",
     "output_type": "stream",
     "text": [
      "/Users/dipanjanbandyopadhyay/anaconda3/lib/python3.6/site-packages/pandas/core/generic.py:3110: SettingWithCopyWarning: \n",
      "A value is trying to be set on a copy of a slice from a DataFrame.\n",
      "Try using .loc[row_indexer,col_indexer] = value instead\n",
      "\n",
      "See the caveats in the documentation: http://pandas.pydata.org/pandas-docs/stable/indexing.html#indexing-view-versus-copy\n",
      "  self[name] = value\n"
     ]
    }
   ],
   "source": [
    "data.job = le.fit_transform(data.job)"
   ]
  },
  {
   "cell_type": "code",
   "execution_count": 12,
   "metadata": {},
   "outputs": [
    {
     "name": "stderr",
     "output_type": "stream",
     "text": [
      "/Users/dipanjanbandyopadhyay/anaconda3/lib/python3.6/site-packages/pandas/core/generic.py:3110: SettingWithCopyWarning: \n",
      "A value is trying to be set on a copy of a slice from a DataFrame.\n",
      "Try using .loc[row_indexer,col_indexer] = value instead\n",
      "\n",
      "See the caveats in the documentation: http://pandas.pydata.org/pandas-docs/stable/indexing.html#indexing-view-versus-copy\n",
      "  self[name] = value\n"
     ]
    }
   ],
   "source": [
    "data.education = le.fit_transform(data.education)\n",
    "data.housing = le.fit_transform(data.housing)\n",
    "data.loan = le.fit_transform(data.loan)\n",
    "data.default = le.fit_transform(data.default)\n",
    "data.poutcome = le.fit_transform(data.poutcome)\n",
    "data.marital = le.fit_transform(data.marital)"
   ]
  },
  {
   "cell_type": "code",
   "execution_count": 13,
   "metadata": {
    "collapsed": true
   },
   "outputs": [],
   "source": [
    "y = df_addi_full['y_dummy']"
   ]
  },
  {
   "cell_type": "code",
   "execution_count": 14,
   "metadata": {
    "collapsed": true
   },
   "outputs": [],
   "source": [
    "#Train-Test split\n",
    "from sklearn.model_selection import train_test_split\n",
    "X_train, X_test, y_train, y_test = train_test_split(data, y, test_size = 0.3, random_state = 42)\n"
   ]
  },
  {
   "cell_type": "code",
   "execution_count": 15,
   "metadata": {},
   "outputs": [
    {
     "name": "stdout",
     "output_type": "stream",
     "text": [
      "Training score:  0.908570635774\n",
      "Testing score:  0.91130533301\n",
      "Using accuracy score\n",
      "0.91130533301\n",
      "[[10705   263]\n",
      " [  833   556]]\n",
      "             precision    recall  f1-score   support\n",
      "\n",
      "          0       0.93      0.98      0.95     10968\n",
      "          1       0.68      0.40      0.50      1389\n",
      "\n",
      "avg / total       0.90      0.91      0.90     12357\n",
      "\n"
     ]
    }
   ],
   "source": [
    "#Logistic Regression\n",
    "from sklearn.linear_model import LogisticRegression\n",
    "from sklearn.metrics import accuracy_score\n",
    "logis = LogisticRegression()\n",
    "logis.fit(X_train, y_train)\n",
    "logis_score_train = logis.score(X_train, y_train)\n",
    "print(\"Training score: \",logis_score_train)\n",
    "logis_score_test = logis.score(X_test, y_test)\n",
    "print(\"Testing score: \",logis_score_test)\n",
    "# Print the accuracy from the testing data.\n",
    "print(\"Using accuracy score\")\n",
    "print(accuracy_score(logis.predict(X_test), y_test))\n",
    "# Predicted data for test\n",
    "y_pred = logis.predict(X_test)\n",
    "# Compute and print the confusion matrix and classification report\n",
    "print(confusion_matrix(y_test, y_pred))\n",
    "print(classification_report(y_test, y_pred))"
   ]
  },
  {
   "cell_type": "code",
   "execution_count": 16,
   "metadata": {},
   "outputs": [
    {
     "name": "stdout",
     "output_type": "stream",
     "text": [
      "Training score:  0.851687419791\n",
      "Testing score:  0.850206360767\n",
      "Using accuracy score\n",
      "0.850206360767\n",
      "[[9303 1665]\n",
      " [ 186 1203]]\n",
      "             precision    recall  f1-score   support\n",
      "\n",
      "          0       0.98      0.85      0.91     10968\n",
      "          1       0.42      0.87      0.57      1389\n",
      "\n",
      "avg / total       0.92      0.85      0.87     12357\n",
      "\n"
     ]
    }
   ],
   "source": [
    "#Logistic Regression taking class imbalance into consideration\n",
    "from sklearn.linear_model import LogisticRegression\n",
    "from sklearn.metrics import accuracy_score\n",
    "logis = LogisticRegression(class_weight = 'balanced')\n",
    "logis.fit(X_train, y_train)\n",
    "logis_score_train = logis.score(X_train, y_train)\n",
    "print(\"Training score: \",logis_score_train)\n",
    "logis_score_test = logis.score(X_test, y_test)\n",
    "print(\"Testing score: \",logis_score_test)\n",
    "# Print the accuracy from the testing data.\n",
    "print(\"Using accuracy score\")\n",
    "print(accuracy_score(logis.predict(X_test), y_test))\n",
    "# Predicted data for test\n",
    "y_pred = logis.predict(X_test)\n",
    "# Compute and print the confusion matrix and classification report\n",
    "print(confusion_matrix(y_test, y_pred))\n",
    "print(classification_report(y_test, y_pred))"
   ]
  },
  {
   "cell_type": "code",
   "execution_count": 17,
   "metadata": {
    "collapsed": true
   },
   "outputs": [],
   "source": [
    "X_train.fillna(X_train.mean())\n",
    "X_test.fillna(X_test.mean())\n",
    "col_mask=X_train.isnull().any(axis=0)\n",
    "col_mask1=X_test.isnull().any(axis=0)\n",
    "#print(col_mask)\n",
    "#print(col_mask1)\n",
    "row_mask=X_train.isnull().any(axis=1)\n",
    "row_mask1=X_test.isnull().any(axis=1)\n",
    "#print(\"rows now\")\n",
    "#print(pd.isnull(X_train).sum() > 0)\n",
    "#print(\"Infinity\")\n",
    "#print(np.where(X_train.values >= np.finfo(np.float64).max))\n",
    "#print(np.isinf(X_train).any())\n",
    "#print(\"null\")\n",
    "#print(np.where(X_train.values >= np.finfo(np.float64).max))\n",
    "#print(np.isnan(X_train).any())\n",
    "#X_train.reset_index(drop = True, inplace = True)\n",
    "#print(X_train.head())\n",
    "from sklearn.model_selection import KFold\n",
    "from sklearn.metrics import accuracy_score\n",
    "\n",
    "def cv_score(clf, x, y, score_func=accuracy_score):\n",
    "    result = 0\n",
    "    nfold = 5\n",
    "    for train, test in KFold(nfold).split(x): # split data into train/test groups, 5 times\n",
    "        clf.fit(x.iloc[train], y.iloc[train]) # fit\n",
    "        result += score_func(clf.predict(x.iloc[test]), y.iloc[test]) # evaluate score function on held-out data\n",
    "    return result / nfold # average\n",
    "#print(row_mask)\n",
    "#print(row_mask1)\n",
    "\n",
    "#X_train.iloc[row_mask,col_mask]\n",
    "\n",
    "#clf = LogisticRegression()\n",
    "\n",
    "#cv = cross_validation.KFold(len(X_train), n_folds=10)\n",
    "\n",
    "#cv_count = 1\n",
    "#for traincv, testcv in cv:  \n",
    "#        preds = clf.fit(X_train.loc[list(traincv),:], \n",
    "#                        y_train.loc[list(traincv),]).predict(X_test.loc[list(testcv),:])\n",
    "        \n",
    "#        false_positive_rate, true_positive_rate, thresholds = roc_curve(y_train.loc[testcv,], preds)\n",
    "\n",
    "#        print('Round {} CV\\nAccuracy: {:.2f}\\nAUC: {:.4f}\\nConfusion Matrix:\\n{}\\n\\n'\\\n",
    "#                  .format(cv_count, accuracy_score(y_train.loc[testcv,], preds)*100, \n",
    "#                          auc(false_positive_rate, true_positive_rate),\n",
    "#                          confusion_matrix(target.loc[testcv,], preds)))\n",
    "#        cv_count += 1\n",
    "        \n"
   ]
  },
  {
   "cell_type": "code",
   "execution_count": 18,
   "metadata": {},
   "outputs": [
    {
     "name": "stdout",
     "output_type": "stream",
     "text": [
      "0.90832790367\n"
     ]
    }
   ],
   "source": [
    "clf = LogisticRegression()\n",
    "score = cv_score(clf, X_train, y_train)\n",
    "print(score)"
   ]
  },
  {
   "cell_type": "code",
   "execution_count": 19,
   "metadata": {},
   "outputs": [
    {
     "name": "stdout",
     "output_type": "stream",
     "text": [
      "Training score for this C is:  0.907287284856\n",
      "Training score for this C is:  0.908605380368\n",
      "Training score for this C is:  0.90832790367\n",
      "Training score for this C is:  0.908362589761\n",
      "Training score for this C is:  0.908431961943\n",
      "Training score for this C is:  0.908362589761\n",
      "The C-value with the highest average cv_score: 0.1\n",
      "The highest average cv_score: 0.908605380368\n"
     ]
    }
   ],
   "source": [
    "#the grid of parameters to search over\n",
    "Cs = [0.001, 0.1, 1, 10, 100,1000]\n",
    "best_score = 0\n",
    "# your turn\n",
    "for C in Cs:\n",
    "    # Instantiate Classifier\n",
    "    logreg = LogisticRegression(C=C)\n",
    "    # Calculate cv_score using training data\n",
    "    score = cv_score(logreg, X_train, y_train)\n",
    "    print('Training score for this C is: ', score)\n",
    "    # Determine if this is the best score\n",
    "    if score > best_score:\n",
    "        best_score = score\n",
    "        best_C = C\n",
    "print('The C-value with the highest average cv_score:', best_C)\n",
    "print('The highest average cv_score:', best_score)"
   ]
  },
  {
   "cell_type": "code",
   "execution_count": 20,
   "metadata": {},
   "outputs": [
    {
     "data": {
      "text/plain": [
       "0.91130533300963013"
      ]
     },
     "execution_count": 20,
     "metadata": {},
     "output_type": "execute_result"
    }
   ],
   "source": [
    "# Instantiate the classifier with tuned hyperParameter\n",
    "logreg_tuned1 = LogisticRegression(C = best_C)\n",
    "# Fit the model\n",
    "logreg_tuned1.fit(X_train,y_train)\n",
    "# Predict based on test data\n",
    "y_pred = logreg_tuned1.predict(X_test)\n",
    "# Check the accuracy\n",
    "accuracy_score(y_pred,y_test)"
   ]
  },
  {
   "cell_type": "markdown",
   "metadata": {},
   "source": [
    "Accuracy score has now improved slightly.\n",
    "We will now check how the AUC and accuracy score changes as we take care of class imbalance"
   ]
  },
  {
   "cell_type": "code",
   "execution_count": 21,
   "metadata": {},
   "outputs": [
    {
     "data": {
      "text/plain": [
       "{'C': 1000}"
      ]
     },
     "execution_count": 21,
     "metadata": {},
     "output_type": "execute_result"
    }
   ],
   "source": [
    "from sklearn.model_selection import GridSearchCV\n",
    "\n",
    "# Set up parameters\n",
    "parameters = {'C' : Cs}\n",
    "# Instantiate logistic regression classifier\n",
    "# Perform Grid search cross validation with 5 folds\n",
    "logreg_cv = GridSearchCV(logreg, parameters, cv= 5, scoring = cv_score)\n",
    "#logreg_cv = GridSearchCV(logreg, parameters, cv= 5, scoring = accuracy_score)\n",
    "#logreg_cv = GridSearchCV(logreg, parameters, cv= 5)\n",
    "# Fit the model with best choice of C from the GridSearch step\n",
    "logreg_cv.fit(X_train,y_train)\n",
    "# print the best choice of C\n",
    "logreg_cv.best_params_"
   ]
  },
  {
   "cell_type": "code",
   "execution_count": 22,
   "metadata": {},
   "outputs": [
    {
     "data": {
      "text/plain": [
       "0.9086749128378272"
      ]
     },
     "execution_count": 22,
     "metadata": {},
     "output_type": "execute_result"
    }
   ],
   "source": [
    "logreg_cv.best_score_"
   ]
  },
  {
   "cell_type": "code",
   "execution_count": 23,
   "metadata": {},
   "outputs": [
    {
     "data": {
      "text/plain": [
       "0.91146718459172937"
      ]
     },
     "execution_count": 23,
     "metadata": {},
     "output_type": "execute_result"
    }
   ],
   "source": [
    "# Instantiate the tuned model\n",
    "logreg_tuned2 = LogisticRegression(C = logreg_cv.best_params_['C'] )\n",
    "# Fit the tuned model\n",
    "logreg_tuned2.fit(X_train,y_train)\n",
    "# Predict\n",
    "y_pred2 = logreg_tuned2.predict(X_test)\n",
    "accuracy_score(y_pred2,y_test)"
   ]
  },
  {
   "cell_type": "code",
   "execution_count": 24,
   "metadata": {},
   "outputs": [
    {
     "name": "stdout",
     "output_type": "stream",
     "text": [
      "Coefficients\n",
      "[[ 0.00441546  0.00757703  0.0044572   0.07109101  0.07541692 -0.04502248\n",
      "  -0.00148666 -0.19592096  0.27868478 -0.35361367  0.34356604  0.02999786\n",
      "  -0.1201861  -0.00654415 -0.24810957 -0.00268163 -0.01460522]]\n",
      "Intercept\n",
      "[ 0.00279218]\n"
     ]
    }
   ],
   "source": [
    "print(\"Coefficients\")\n",
    "print(logreg_tuned2.coef_)\n",
    "print(\"Intercept\")\n",
    "print(logreg_tuned2.intercept_)"
   ]
  },
  {
   "cell_type": "code",
   "execution_count": 25,
   "metadata": {},
   "outputs": [
    {
     "name": "stdout",
     "output_type": "stream",
     "text": [
      "[[10702   266]\n",
      " [  828   561]]\n",
      "             precision    recall  f1-score   support\n",
      "\n",
      "          0       0.93      0.98      0.95     10968\n",
      "          1       0.68      0.40      0.51      1389\n",
      "\n",
      "avg / total       0.90      0.91      0.90     12357\n",
      "\n"
     ]
    }
   ],
   "source": [
    "print(confusion_matrix(y_test, y_pred2))\n",
    "print(classification_report(y_test, y_pred2))"
   ]
  },
  {
   "cell_type": "code",
   "execution_count": 26,
   "metadata": {},
   "outputs": [
    {
     "data": {
      "image/png": "[encoded data removed]",
      "text/plain": [
       "<matplotlib.figure.Figure at 0x1a11870898>"
      ]
     },
     "metadata": {},
     "output_type": "display_data"
    }
   ],
   "source": [
    "# Compute predicted probabilities: label_pred_prob\n",
    "label_pred_prob = logreg_tuned2.predict_proba(X_test)[:,1]\n",
    "\n",
    "# Generate ROC curve values: fpr, tpr, thresholds\n",
    "fpr, tpr, thresholds = roc_curve(y_test, label_pred_prob)\n",
    "\n",
    "# Plot ROC curve\n",
    "plt.plot([0, 1], [0, 1], 'k--')\n",
    "plt.plot(fpr, tpr)\n",
    "plt.xlabel('False Positive Rate')\n",
    "plt.ylabel('True Positive Rate')\n",
    "plt.title('ROC Curve')\n",
    "plt.show()\n"
   ]
  },
  {
   "cell_type": "code",
   "execution_count": 27,
   "metadata": {},
   "outputs": [
    {
     "name": "stdout",
     "output_type": "stream",
     "text": [
      "0.928672073849\n"
     ]
    }
   ],
   "source": [
    "print(auc(fpr, tpr))"
   ]
  },
  {
   "cell_type": "markdown",
   "metadata": {},
   "source": [
    "Support vector machine"
   ]
  },
  {
   "cell_type": "code",
   "execution_count": 28,
   "metadata": {
    "collapsed": true
   },
   "outputs": [],
   "source": [
    "from sklearn.svm import SVC\n",
    "clf = SVC()"
   ]
  },
  {
   "cell_type": "code",
   "execution_count": 29,
   "metadata": {},
   "outputs": [
    {
     "data": {
      "text/plain": [
       "SVC(C=1.0, cache_size=200, class_weight=None, coef0=0.0,\n",
       "  decision_function_shape='ovr', degree=3, gamma='auto', kernel='rbf',\n",
       "  max_iter=-1, probability=False, random_state=None, shrinking=True,\n",
       "  tol=0.001, verbose=False)"
      ]
     },
     "execution_count": 29,
     "metadata": {},
     "output_type": "execute_result"
    }
   ],
   "source": [
    "clf.fit(X_train, y_train)"
   ]
  },
  {
   "cell_type": "code",
   "execution_count": 30,
   "metadata": {
    "collapsed": true
   },
   "outputs": [],
   "source": [
    "pred = clf.predict(X_test)"
   ]
  },
  {
   "cell_type": "code",
   "execution_count": 31,
   "metadata": {},
   "outputs": [
    {
     "data": {
      "text/plain": [
       "0.88759407623209519"
      ]
     },
     "execution_count": 31,
     "metadata": {},
     "output_type": "execute_result"
    }
   ],
   "source": [
    "from sklearn.metrics import accuracy_score\n",
    "accuracy_score(y_test, pred)"
   ]
  },
  {
   "cell_type": "markdown",
   "metadata": {},
   "source": [
    "Random forest clasifier"
   ]
  },
  {
   "cell_type": "code",
   "execution_count": 32,
   "metadata": {
    "collapsed": true
   },
   "outputs": [],
   "source": [
    "from sklearn.ensemble import RandomForestClassifier\n",
    "rfc = RandomForestClassifier()"
   ]
  },
  {
   "cell_type": "code",
   "execution_count": 33,
   "metadata": {
    "collapsed": true
   },
   "outputs": [],
   "source": [
    "rfc.fit(X_train, y_train)\n",
    "predict = rfc.predict(X_test)"
   ]
  },
  {
   "cell_type": "code",
   "execution_count": 34,
   "metadata": {},
   "outputs": [
    {
     "data": {
      "text/plain": [
       "0.9090394108602412"
      ]
     },
     "execution_count": 34,
     "metadata": {},
     "output_type": "execute_result"
    }
   ],
   "source": [
    "accuracy_score(y_test, predict)"
   ]
  },
  {
   "cell_type": "markdown",
   "metadata": {},
   "source": [
    "Random Forest classifier with class imbalance taken care of"
   ]
  },
  {
   "cell_type": "code",
   "execution_count": 35,
   "metadata": {
    "collapsed": true
   },
   "outputs": [],
   "source": [
    "from sklearn.ensemble import RandomForestClassifier\n",
    "rfc = RandomForestClassifier(class_weight='balanced')\n",
    "rfc.fit(X_train, y_train)\n",
    "predict = rfc.predict(X_test)"
   ]
  },
  {
   "cell_type": "code",
   "execution_count": 36,
   "metadata": {},
   "outputs": [
    {
     "data": {
      "text/plain": [
       "0.90839200453184432"
      ]
     },
     "execution_count": 36,
     "metadata": {},
     "output_type": "execute_result"
    }
   ],
   "source": [
    "accuracy_score(y_test, predict)"
   ]
  },
  {
   "cell_type": "code",
   "execution_count": 37,
   "metadata": {},
   "outputs": [
    {
     "data": {
      "text/html": [
       "<div>\n",
       "<style>\n",
       "    .dataframe thead tr:only-child th {\n",
       "        text-align: right;\n",
       "    }\n",
       "\n",
       "    .dataframe thead th {\n",
       "        text-align: left;\n",
       "    }\n",
       "\n",
       "    .dataframe tbody tr th {\n",
       "        vertical-align: top;\n",
       "    }\n",
       "</style>\n",
       "<table border=\"1\" class=\"dataframe\">\n",
       "  <thead>\n",
       "    <tr style=\"text-align: right;\">\n",
       "      <th></th>\n",
       "      <th>feature_importance</th>\n",
       "    </tr>\n",
       "  </thead>\n",
       "  <tbody>\n",
       "    <tr>\n",
       "      <th>duration</th>\n",
       "      <td>0.432129</td>\n",
       "    </tr>\n",
       "    <tr>\n",
       "      <th>euribor3m</th>\n",
       "      <td>0.105383</td>\n",
       "    </tr>\n",
       "    <tr>\n",
       "      <th>nr.employed</th>\n",
       "      <td>0.093811</td>\n",
       "    </tr>\n",
       "    <tr>\n",
       "      <th>age</th>\n",
       "      <td>0.066139</td>\n",
       "    </tr>\n",
       "    <tr>\n",
       "      <th>cons.conf.idx</th>\n",
       "      <td>0.055320</td>\n",
       "    </tr>\n",
       "    <tr>\n",
       "      <th>emp.var.rate</th>\n",
       "      <td>0.049454</td>\n",
       "    </tr>\n",
       "    <tr>\n",
       "      <th>education</th>\n",
       "      <td>0.031034</td>\n",
       "    </tr>\n",
       "    <tr>\n",
       "      <th>job</th>\n",
       "      <td>0.030815</td>\n",
       "    </tr>\n",
       "    <tr>\n",
       "      <th>campaign</th>\n",
       "      <td>0.030747</td>\n",
       "    </tr>\n",
       "    <tr>\n",
       "      <th>pdays</th>\n",
       "      <td>0.022137</td>\n",
       "    </tr>\n",
       "    <tr>\n",
       "      <th>cons.price.idx</th>\n",
       "      <td>0.018381</td>\n",
       "    </tr>\n",
       "    <tr>\n",
       "      <th>marital</th>\n",
       "      <td>0.015718</td>\n",
       "    </tr>\n",
       "    <tr>\n",
       "      <th>poutcome</th>\n",
       "      <td>0.013823</td>\n",
       "    </tr>\n",
       "    <tr>\n",
       "      <th>housing</th>\n",
       "      <td>0.011338</td>\n",
       "    </tr>\n",
       "    <tr>\n",
       "      <th>default</th>\n",
       "      <td>0.008553</td>\n",
       "    </tr>\n",
       "    <tr>\n",
       "      <th>loan</th>\n",
       "      <td>0.008546</td>\n",
       "    </tr>\n",
       "    <tr>\n",
       "      <th>previous</th>\n",
       "      <td>0.006671</td>\n",
       "    </tr>\n",
       "  </tbody>\n",
       "</table>\n",
       "</div>"
      ],
      "text/plain": [
       "                feature_importance\n",
       "duration                  0.432129\n",
       "euribor3m                 0.105383\n",
       "nr.employed               0.093811\n",
       "age                       0.066139\n",
       "cons.conf.idx             0.055320\n",
       "emp.var.rate              0.049454\n",
       "education                 0.031034\n",
       "job                       0.030815\n",
       "campaign                  0.030747\n",
       "pdays                     0.022137\n",
       "cons.price.idx            0.018381\n",
       "marital                   0.015718\n",
       "poutcome                  0.013823\n",
       "housing                   0.011338\n",
       "default                   0.008553\n",
       "loan                      0.008546\n",
       "previous                  0.006671"
      ]
     },
     "execution_count": 37,
     "metadata": {},
     "output_type": "execute_result"
    }
   ],
   "source": [
    "# Find feature importances\n",
    "feature_importance = pd.DataFrame(rfc.feature_importances_).T\n",
    "feature_importance.columns = list(X_train.columns)\n",
    "feature_importance = feature_importance.T\n",
    "feature_importance.columns = ['feature_importance']\n",
    "feature_importance.sort_values('feature_importance', ascending=False)"
   ]
  },
  {
   "cell_type": "markdown",
   "metadata": {},
   "source": [
    "RF has good accuracy"
   ]
  },
  {
   "cell_type": "code",
   "execution_count": 38,
   "metadata": {
    "collapsed": true
   },
   "outputs": [],
   "source": [
    "# Test options and evaluation metric\n",
    "seed = 7\n",
    "scoring = 'accuracy'"
   ]
  },
  {
   "cell_type": "code",
   "execution_count": 39,
   "metadata": {
    "collapsed": true
   },
   "outputs": [],
   "source": [
    "from sklearn.model_selection import cross_val_score\n",
    "from sklearn.linear_model import LogisticRegression\n",
    "from sklearn.tree import DecisionTreeClassifier\n",
    "from sklearn.neighbors import KNeighborsClassifier\n",
    "from sklearn.discriminant_analysis import LinearDiscriminantAnalysis\n",
    "from sklearn.naive_bayes import GaussianNB\n",
    "# Spot Check Algorithms\n",
    "models = []\n",
    "#models.append(('LR', LogisticRegression()))\n",
    "models.append(('LDA', LinearDiscriminantAnalysis()))\n",
    "models.append(('K-NN', KNeighborsClassifier()))\n",
    "models.append(('CART', DecisionTreeClassifier()))\n",
    "models.append(('NB', GaussianNB()))\n",
    "#models.append(('SVM', SVC()))"
   ]
  },
  {
   "cell_type": "code",
   "execution_count": 40,
   "metadata": {},
   "outputs": [
    {
     "name": "stdout",
     "output_type": "stream",
     "text": [
      "LDA: 0.906282 (0.004004)\n",
      "K-NN: 0.902778 (0.004060)\n",
      "CART: 0.886719 (0.004442)\n",
      "NB: 0.844022 (0.005484)\n"
     ]
    }
   ],
   "source": [
    "# evaluate each model in turn - LDA, KNN, Decision Tree and Gauassian Naive Bias\n",
    "results = []\n",
    "names = []\n",
    "for name, model in models:\n",
    "    kfold = model_selection.KFold(n_splits=10, random_state=seed)\n",
    "    cv_results = model_selection.cross_val_score(model, X_train, y_train, cv=kfold, scoring=scoring)\n",
    "    results.append(cv_results)\n",
    "    names.append(name)\n",
    "    msg = \"%s: %f (%f)\" % (name, cv_results.mean(), cv_results.std())\n",
    "    print(msg)"
   ]
  },
  {
   "cell_type": "code",
   "execution_count": 41,
   "metadata": {},
   "outputs": [
    {
     "name": "stdout",
     "output_type": "stream",
     "text": [
      "<class 'pandas.core.frame.DataFrame'>\n",
      "RangeIndex: 41188 entries, 0 to 41187\n",
      "Data columns (total 17 columns):\n",
      "age               41188 non-null int64\n",
      "job               41188 non-null int64\n",
      "duration          41188 non-null int64\n",
      "marital           41188 non-null int64\n",
      "education         41188 non-null int64\n",
      "campaign          41188 non-null int64\n",
      "pdays             41188 non-null int64\n",
      "previous          41188 non-null int64\n",
      "poutcome          41188 non-null int64\n",
      "emp.var.rate      41188 non-null float64\n",
      "cons.price.idx    41188 non-null float64\n",
      "cons.conf.idx     41188 non-null float64\n",
      "euribor3m         41188 non-null float64\n",
      "nr.employed       41188 non-null float64\n",
      "default           41188 non-null int64\n",
      "loan              41188 non-null int64\n",
      "housing           41188 non-null int64\n",
      "dtypes: float64(5), int64(12)\n",
      "memory usage: 5.3 MB\n"
     ]
    }
   ],
   "source": [
    "data.info()"
   ]
  },
  {
   "cell_type": "markdown",
   "metadata": {},
   "source": [
    "Neural network"
   ]
  },
  {
   "cell_type": "code",
   "execution_count": 42,
   "metadata": {},
   "outputs": [
    {
     "name": "stderr",
     "output_type": "stream",
     "text": [
      "Using TensorFlow backend.\n"
     ]
    }
   ],
   "source": [
    "from keras.models import Sequential\n",
    "from keras.layers import Dense\n",
    "import xgboost"
   ]
  },
  {
   "cell_type": "code",
   "execution_count": 43,
   "metadata": {
    "collapsed": true
   },
   "outputs": [],
   "source": [
    "model = Sequential()\n",
    "model.add(Dense(10, input_dim=17, activation='tanh'))\n",
    "\n",
    "model.add(Dense(1, activation='sigmoid'))"
   ]
  },
  {
   "cell_type": "code",
   "execution_count": 44,
   "metadata": {
    "collapsed": true
   },
   "outputs": [],
   "source": [
    "model.compile(loss='binary_crossentropy', optimizer='adam', metrics=['accuracy'])"
   ]
  },
  {
   "cell_type": "code",
   "execution_count": 45,
   "metadata": {},
   "outputs": [
    {
     "name": "stdout",
     "output_type": "stream",
     "text": [
      "(28831, 17)\n",
      "(28831, 1)\n"
     ]
    }
   ],
   "source": [
    "import numpy as np\n",
    "X_train_keras = np.array(X_train)\n",
    "y_train_keras = np.array(y_train)\n",
    "print(X_train_keras.shape)\n",
    "y_train_keras = y_train_keras.reshape(y_train_keras.shape[0], 1)\n",
    "print(y_train_keras.shape)"
   ]
  },
  {
   "cell_type": "code",
   "execution_count": 46,
   "metadata": {},
   "outputs": [
    {
     "name": "stdout",
     "output_type": "stream",
     "text": [
      "Epoch 1/10\n",
      "28831/28831 [==============================] - 1s 24us/step - loss: 0.5308 - acc: 0.7610\n",
      "Epoch 2/10\n",
      "28831/28831 [==============================] - 0s 12us/step - loss: 0.3368 - acc: 0.8872\n",
      "Epoch 3/10\n",
      "28831/28831 [==============================] - 0s 11us/step - loss: 0.3136 - acc: 0.8872\n",
      "Epoch 4/10\n",
      "28831/28831 [==============================] - 0s 11us/step - loss: 0.2962 - acc: 0.8872\n",
      "Epoch 5/10\n",
      "28831/28831 [==============================] - 0s 11us/step - loss: 0.2864 - acc: 0.8872\n",
      "Epoch 6/10\n",
      "28831/28831 [==============================] - 0s 11us/step - loss: 0.2776 - acc: 0.8872\n",
      "Epoch 7/10\n",
      "28831/28831 [==============================] - 0s 11us/step - loss: 0.2751 - acc: 0.8872\n",
      "Epoch 8/10\n",
      "28831/28831 [==============================] - 0s 11us/step - loss: 0.2751 - acc: 0.8872\n",
      "Epoch 9/10\n",
      "28831/28831 [==============================] - 0s 11us/step - loss: 0.2720 - acc: 0.8872\n",
      "Epoch 10/10\n",
      "28831/28831 [==============================] - 0s 11us/step - loss: 0.2684 - acc: 0.8872\n"
     ]
    },
    {
     "data": {
      "text/plain": [
       "<keras.callbacks.History at 0x1a28a219b0>"
      ]
     },
     "execution_count": 46,
     "metadata": {},
     "output_type": "execute_result"
    }
   ],
   "source": [
    "model.fit(np.array(X_train_keras), np.array(y_train_keras), epochs=10, batch_size=128, shuffle=True)"
   ]
  },
  {
   "cell_type": "code",
   "execution_count": 47,
   "metadata": {},
   "outputs": [
    {
     "name": "stdout",
     "output_type": "stream",
     "text": [
      "12357/12357 [==============================] - 0s 24us/step\n"
     ]
    }
   ],
   "source": [
    "scores  =  model.evaluate(np.array(X_test), np.array(y_test))"
   ]
  },
  {
   "cell_type": "code",
   "execution_count": 48,
   "metadata": {},
   "outputs": [
    {
     "name": "stdout",
     "output_type": "stream",
     "text": [
      "\n",
      "acc: 88.76%\n"
     ]
    }
   ],
   "source": [
    "print(\"\\n%s: %.2f%%\" % (model.metrics_names[1], scores[1]*100))"
   ]
  },
  {
   "cell_type": "code",
   "execution_count": 49,
   "metadata": {
    "collapsed": true
   },
   "outputs": [],
   "source": [
    "from sklearn.cluster import KMeans\n",
    "from IPython.core.interactiveshell import InteractiveShell\n",
    "InteractiveShell.ast_node_interactivity = \"all\" \n",
    "#x_cols = np.matrix(df[1:])\n",
    "x_cols = np.matrix(data)"
   ]
  },
  {
   "cell_type": "code",
   "execution_count": 50,
   "metadata": {
    "collapsed": true
   },
   "outputs": [],
   "source": [
    "kmeans = KMeans()\n",
    "clusters_pred = kmeans.fit_transform(x_cols)"
   ]
  },
  {
   "cell_type": "code",
   "execution_count": 51,
   "metadata": {},
   "outputs": [
    {
     "data": {
      "text/plain": [
       "KMeans(algorithm='auto', copy_x=True, init='k-means++', max_iter=300,\n",
       "    n_clusters=2, n_init=10, n_jobs=1, precompute_distances='auto',\n",
       "    random_state=1, tol=0.0001, verbose=0)"
      ]
     },
     "execution_count": 51,
     "metadata": {},
     "output_type": "execute_result"
    },
    {
     "data": {
      "text/plain": [
       "KMeans(algorithm='auto', copy_x=True, init='k-means++', max_iter=300,\n",
       "    n_clusters=3, n_init=10, n_jobs=1, precompute_distances='auto',\n",
       "    random_state=1, tol=0.0001, verbose=0)"
      ]
     },
     "execution_count": 51,
     "metadata": {},
     "output_type": "execute_result"
    },
    {
     "data": {
      "text/plain": [
       "KMeans(algorithm='auto', copy_x=True, init='k-means++', max_iter=300,\n",
       "    n_clusters=4, n_init=10, n_jobs=1, precompute_distances='auto',\n",
       "    random_state=1, tol=0.0001, verbose=0)"
      ]
     },
     "execution_count": 51,
     "metadata": {},
     "output_type": "execute_result"
    },
    {
     "data": {
      "text/plain": [
       "KMeans(algorithm='auto', copy_x=True, init='k-means++', max_iter=300,\n",
       "    n_clusters=5, n_init=10, n_jobs=1, precompute_distances='auto',\n",
       "    random_state=1, tol=0.0001, verbose=0)"
      ]
     },
     "execution_count": 51,
     "metadata": {},
     "output_type": "execute_result"
    },
    {
     "data": {
      "text/plain": [
       "KMeans(algorithm='auto', copy_x=True, init='k-means++', max_iter=300,\n",
       "    n_clusters=6, n_init=10, n_jobs=1, precompute_distances='auto',\n",
       "    random_state=1, tol=0.0001, verbose=0)"
      ]
     },
     "execution_count": 51,
     "metadata": {},
     "output_type": "execute_result"
    },
    {
     "data": {
      "text/plain": [
       "KMeans(algorithm='auto', copy_x=True, init='k-means++', max_iter=300,\n",
       "    n_clusters=7, n_init=10, n_jobs=1, precompute_distances='auto',\n",
       "    random_state=1, tol=0.0001, verbose=0)"
      ]
     },
     "execution_count": 51,
     "metadata": {},
     "output_type": "execute_result"
    },
    {
     "data": {
      "text/plain": [
       "KMeans(algorithm='auto', copy_x=True, init='k-means++', max_iter=300,\n",
       "    n_clusters=8, n_init=10, n_jobs=1, precompute_distances='auto',\n",
       "    random_state=1, tol=0.0001, verbose=0)"
      ]
     },
     "execution_count": 51,
     "metadata": {},
     "output_type": "execute_result"
    },
    {
     "data": {
      "text/plain": [
       "KMeans(algorithm='auto', copy_x=True, init='k-means++', max_iter=300,\n",
       "    n_clusters=9, n_init=10, n_jobs=1, precompute_distances='auto',\n",
       "    random_state=1, tol=0.0001, verbose=0)"
      ]
     },
     "execution_count": 51,
     "metadata": {},
     "output_type": "execute_result"
    },
    {
     "data": {
      "text/plain": [
       "KMeans(algorithm='auto', copy_x=True, init='k-means++', max_iter=300,\n",
       "    n_clusters=10, n_init=10, n_jobs=1, precompute_distances='auto',\n",
       "    random_state=1, tol=0.0001, verbose=0)"
      ]
     },
     "execution_count": 51,
     "metadata": {},
     "output_type": "execute_result"
    }
   ],
   "source": [
    "ks = range(2,11)\n",
    "ss = []\n",
    "for k in ks:\n",
    "    kmeans = KMeans(n_clusters=k, random_state=1)\n",
    "    kmeans.fit(x_cols)\n",
    "    ss.append(kmeans.inertia_)"
   ]
  },
  {
   "cell_type": "code",
   "execution_count": 52,
   "metadata": {},
   "outputs": [
    {
     "data": {
      "image/png": "[encoded data removed]",
      "text/plain": [
       "<matplotlib.figure.Figure at 0x1a295ed4e0>"
      ]
     },
     "metadata": {},
     "output_type": "display_data"
    }
   ],
   "source": [
    "_ = plt.plot(ks, ss)\n",
    "_ = plt.xlim([2,10])\n",
    "_ = plt.xlabel('K')\n",
    "_ = plt.ylabel('Sum of Squares')\n",
    "_ = plt.title('Elbow Method')\n",
    "plt.show()"
   ]
  },
  {
   "cell_type": "code",
   "execution_count": 53,
   "metadata": {
    "collapsed": true
   },
   "outputs": [],
   "source": [
    "# best k = 3\n",
    "cluster_pred = KMeans(n_clusters=3, random_state=1).fit_predict(x_cols)"
   ]
  },
  {
   "cell_type": "code",
   "execution_count": 54,
   "metadata": {},
   "outputs": [
    {
     "data": {
      "text/plain": [
       "0     4820\n",
       "1    34859\n",
       "2     1509\n",
       "dtype: int64"
      ]
     },
     "execution_count": 54,
     "metadata": {},
     "output_type": "execute_result"
    }
   ],
   "source": [
    "cluster_population = pd.Series(cluster_pred).value_counts().sort_index()\n",
    "cluster_population\n",
    "\n",
    "_ = cluster_population.plot(kind='bar')\n",
    "_ = plt.ylabel('Number of Points')\n",
    "_ = plt.xlabel('Cluster Number')\n",
    "_ = plt.title('Population of Clusters for $K$ = 3')"
   ]
  },
  {
   "cell_type": "code",
   "execution_count": 55,
   "metadata": {
    "collapsed": true
   },
   "outputs": [],
   "source": [
    "# best k = 4\n",
    "cluster_pred1 = KMeans(n_clusters=4, random_state=1).fit_predict(x_cols)"
   ]
  },
  {
   "cell_type": "code",
   "execution_count": 56,
   "metadata": {},
   "outputs": [
    {
     "data": {
      "text/plain": [
       "0    29406\n",
       "1     8698\n",
       "2     1582\n",
       "3     1502\n",
       "dtype: int64"
      ]
     },
     "execution_count": 56,
     "metadata": {},
     "output_type": "execute_result"
    },
    {
     "data": {
      "image/png": "[encoded data removed]",
      "text/plain": [
       "<matplotlib.figure.Figure at 0x1a29485748>"
      ]
     },
     "metadata": {},
     "output_type": "display_data"
    }
   ],
   "source": [
    "cluster_population1 = pd.Series(cluster_pred1).value_counts().sort_index()\n",
    "cluster_population1\n",
    "\n",
    "_ = cluster_population1.plot(kind='bar')\n",
    "_ = plt.ylabel('Number of Points')\n",
    "_ = plt.xlabel('Cluster Number')\n",
    "_ = plt.title('Population of Clusters for $K$ = 4')\n",
    "plt.show()"
   ]
  },
  {
   "cell_type": "code",
   "execution_count": 57,
   "metadata": {},
   "outputs": [
    {
     "data": {
      "text/plain": [
       "array([0, 0, 0, ..., 0, 1, 0], dtype=int32)"
      ]
     },
     "execution_count": 57,
     "metadata": {},
     "output_type": "execute_result"
    },
    {
     "data": {
      "text/html": [
       "<div>\n",
       "<style>\n",
       "    .dataframe thead tr:only-child th {\n",
       "        text-align: right;\n",
       "    }\n",
       "\n",
       "    .dataframe thead th {\n",
       "        text-align: left;\n",
       "    }\n",
       "\n",
       "    .dataframe tbody tr th {\n",
       "        vertical-align: top;\n",
       "    }\n",
       "</style>\n",
       "<table border=\"1\" class=\"dataframe\">\n",
       "  <thead>\n",
       "    <tr style=\"text-align: right;\">\n",
       "      <th></th>\n",
       "      <th>index</th>\n",
       "      <th>cluster_label</th>\n",
       "      <th>x</th>\n",
       "      <th>y</th>\n",
       "    </tr>\n",
       "  </thead>\n",
       "  <tbody>\n",
       "    <tr>\n",
       "      <th>0</th>\n",
       "      <td>0</td>\n",
       "      <td>0</td>\n",
       "      <td>-0.451762</td>\n",
       "      <td>-39.974343</td>\n",
       "    </tr>\n",
       "    <tr>\n",
       "      <th>1</th>\n",
       "      <td>1</td>\n",
       "      <td>0</td>\n",
       "      <td>-112.125759</td>\n",
       "      <td>-31.460844</td>\n",
       "    </tr>\n",
       "    <tr>\n",
       "      <th>2</th>\n",
       "      <td>2</td>\n",
       "      <td>0</td>\n",
       "      <td>-35.351146</td>\n",
       "      <td>-37.348093</td>\n",
       "    </tr>\n",
       "    <tr>\n",
       "      <th>3</th>\n",
       "      <td>3</td>\n",
       "      <td>0</td>\n",
       "      <td>-110.131615</td>\n",
       "      <td>-31.650348</td>\n",
       "    </tr>\n",
       "    <tr>\n",
       "      <th>4</th>\n",
       "      <td>4</td>\n",
       "      <td>0</td>\n",
       "      <td>45.413537</td>\n",
       "      <td>-43.464684</td>\n",
       "    </tr>\n",
       "    <tr>\n",
       "      <th>5</th>\n",
       "      <td>5</td>\n",
       "      <td>0</td>\n",
       "      <td>-63.269039</td>\n",
       "      <td>-35.206652</td>\n",
       "    </tr>\n",
       "    <tr>\n",
       "      <th>6</th>\n",
       "      <td>6</td>\n",
       "      <td>0</td>\n",
       "      <td>-122.096224</td>\n",
       "      <td>-30.700013</td>\n",
       "    </tr>\n",
       "    <tr>\n",
       "      <th>7</th>\n",
       "      <td>7</td>\n",
       "      <td>0</td>\n",
       "      <td>-44.324713</td>\n",
       "      <td>-36.658217</td>\n",
       "    </tr>\n",
       "    <tr>\n",
       "      <th>8</th>\n",
       "      <td>8</td>\n",
       "      <td>1</td>\n",
       "      <td>118.198973</td>\n",
       "      <td>-49.068957</td>\n",
       "    </tr>\n",
       "    <tr>\n",
       "      <th>9</th>\n",
       "      <td>9</td>\n",
       "      <td>0</td>\n",
       "      <td>-210.838462</td>\n",
       "      <td>-24.001602</td>\n",
       "    </tr>\n",
       "    <tr>\n",
       "      <th>10</th>\n",
       "      <td>10</td>\n",
       "      <td>0</td>\n",
       "      <td>-205.852367</td>\n",
       "      <td>-24.352262</td>\n",
       "    </tr>\n",
       "    <tr>\n",
       "      <th>11</th>\n",
       "      <td>11</td>\n",
       "      <td>0</td>\n",
       "      <td>-39.339964</td>\n",
       "      <td>-37.067184</td>\n",
       "    </tr>\n",
       "    <tr>\n",
       "      <th>12</th>\n",
       "      <td>12</td>\n",
       "      <td>0</td>\n",
       "      <td>-124.091509</td>\n",
       "      <td>-30.606204</td>\n",
       "    </tr>\n",
       "    <tr>\n",
       "      <th>13</th>\n",
       "      <td>13</td>\n",
       "      <td>0</td>\n",
       "      <td>31.454896</td>\n",
       "      <td>-42.403213</td>\n",
       "    </tr>\n",
       "    <tr>\n",
       "      <th>14</th>\n",
       "      <td>14</td>\n",
       "      <td>0</td>\n",
       "      <td>-115.117369</td>\n",
       "      <td>-31.279438</td>\n",
       "    </tr>\n",
       "    <tr>\n",
       "      <th>15</th>\n",
       "      <td>15</td>\n",
       "      <td>0</td>\n",
       "      <td>-87.198601</td>\n",
       "      <td>-33.367230</td>\n",
       "    </tr>\n",
       "    <tr>\n",
       "      <th>16</th>\n",
       "      <td>16</td>\n",
       "      <td>1</td>\n",
       "      <td>50.398623</td>\n",
       "      <td>-43.889244</td>\n",
       "    </tr>\n",
       "    <tr>\n",
       "      <th>17</th>\n",
       "      <td>17</td>\n",
       "      <td>1</td>\n",
       "      <td>178.025848</td>\n",
       "      <td>-53.591510</td>\n",
       "    </tr>\n",
       "    <tr>\n",
       "      <th>18</th>\n",
       "      <td>18</td>\n",
       "      <td>1</td>\n",
       "      <td>91.279611</td>\n",
       "      <td>-46.974312</td>\n",
       "    </tr>\n",
       "    <tr>\n",
       "      <th>19</th>\n",
       "      <td>19</td>\n",
       "      <td>0</td>\n",
       "      <td>-66.260316</td>\n",
       "      <td>-34.991864</td>\n",
       "    </tr>\n",
       "    <tr>\n",
       "      <th>20</th>\n",
       "      <td>20</td>\n",
       "      <td>0</td>\n",
       "      <td>-222.803439</td>\n",
       "      <td>-23.079018</td>\n",
       "    </tr>\n",
       "    <tr>\n",
       "      <th>21</th>\n",
       "      <td>21</td>\n",
       "      <td>0</td>\n",
       "      <td>0.545335</td>\n",
       "      <td>-40.053404</td>\n",
       "    </tr>\n",
       "    <tr>\n",
       "      <th>22</th>\n",
       "      <td>22</td>\n",
       "      <td>1</td>\n",
       "      <td>80.311562</td>\n",
       "      <td>-46.126149</td>\n",
       "    </tr>\n",
       "    <tr>\n",
       "      <th>23</th>\n",
       "      <td>23</td>\n",
       "      <td>0</td>\n",
       "      <td>-80.219873</td>\n",
       "      <td>-33.920817</td>\n",
       "    </tr>\n",
       "    <tr>\n",
       "      <th>24</th>\n",
       "      <td>24</td>\n",
       "      <td>0</td>\n",
       "      <td>-89.193228</td>\n",
       "      <td>-33.250064</td>\n",
       "    </tr>\n",
       "    <tr>\n",
       "      <th>25</th>\n",
       "      <td>25</td>\n",
       "      <td>0</td>\n",
       "      <td>-161.981328</td>\n",
       "      <td>-27.702011</td>\n",
       "    </tr>\n",
       "    <tr>\n",
       "      <th>26</th>\n",
       "      <td>26</td>\n",
       "      <td>0</td>\n",
       "      <td>-167.962959</td>\n",
       "      <td>-27.199374</td>\n",
       "    </tr>\n",
       "    <tr>\n",
       "      <th>27</th>\n",
       "      <td>27</td>\n",
       "      <td>0</td>\n",
       "      <td>-28.371277</td>\n",
       "      <td>-37.877449</td>\n",
       "    </tr>\n",
       "    <tr>\n",
       "      <th>28</th>\n",
       "      <td>28</td>\n",
       "      <td>0</td>\n",
       "      <td>-6.436161</td>\n",
       "      <td>-39.516482</td>\n",
       "    </tr>\n",
       "    <tr>\n",
       "      <th>29</th>\n",
       "      <td>29</td>\n",
       "      <td>1</td>\n",
       "      <td>100.252507</td>\n",
       "      <td>-47.640725</td>\n",
       "    </tr>\n",
       "    <tr>\n",
       "      <th>...</th>\n",
       "      <td>...</td>\n",
       "      <td>...</td>\n",
       "      <td>...</td>\n",
       "      <td>...</td>\n",
       "    </tr>\n",
       "    <tr>\n",
       "      <th>41158</th>\n",
       "      <td>41158</td>\n",
       "      <td>1</td>\n",
       "      <td>105.663651</td>\n",
       "      <td>-11.158445</td>\n",
       "    </tr>\n",
       "    <tr>\n",
       "      <th>41159</th>\n",
       "      <td>41159</td>\n",
       "      <td>2</td>\n",
       "      <td>329.281153</td>\n",
       "      <td>951.548881</td>\n",
       "    </tr>\n",
       "    <tr>\n",
       "      <th>41160</th>\n",
       "      <td>41160</td>\n",
       "      <td>3</td>\n",
       "      <td>584.264048</td>\n",
       "      <td>-47.625961</td>\n",
       "    </tr>\n",
       "    <tr>\n",
       "      <th>41161</th>\n",
       "      <td>41161</td>\n",
       "      <td>1</td>\n",
       "      <td>252.234952</td>\n",
       "      <td>-22.329535</td>\n",
       "    </tr>\n",
       "    <tr>\n",
       "      <th>41162</th>\n",
       "      <td>41162</td>\n",
       "      <td>2</td>\n",
       "      <td>163.137573</td>\n",
       "      <td>969.192877</td>\n",
       "    </tr>\n",
       "    <tr>\n",
       "      <th>41163</th>\n",
       "      <td>41163</td>\n",
       "      <td>2</td>\n",
       "      <td>201.024449</td>\n",
       "      <td>966.263415</td>\n",
       "    </tr>\n",
       "    <tr>\n",
       "      <th>41164</th>\n",
       "      <td>41164</td>\n",
       "      <td>3</td>\n",
       "      <td>1679.259356</td>\n",
       "      <td>847.740134</td>\n",
       "    </tr>\n",
       "    <tr>\n",
       "      <th>41165</th>\n",
       "      <td>41165</td>\n",
       "      <td>1</td>\n",
       "      <td>145.546146</td>\n",
       "      <td>-14.191962</td>\n",
       "    </tr>\n",
       "    <tr>\n",
       "      <th>41166</th>\n",
       "      <td>41166</td>\n",
       "      <td>1</td>\n",
       "      <td>392.823847</td>\n",
       "      <td>-33.042326</td>\n",
       "    </tr>\n",
       "    <tr>\n",
       "      <th>41167</th>\n",
       "      <td>41167</td>\n",
       "      <td>0</td>\n",
       "      <td>-20.967806</td>\n",
       "      <td>-1.519922</td>\n",
       "    </tr>\n",
       "    <tr>\n",
       "      <th>41168</th>\n",
       "      <td>41168</td>\n",
       "      <td>0</td>\n",
       "      <td>-112.698587</td>\n",
       "      <td>5.481941</td>\n",
       "    </tr>\n",
       "    <tr>\n",
       "      <th>41169</th>\n",
       "      <td>41169</td>\n",
       "      <td>0</td>\n",
       "      <td>-102.729204</td>\n",
       "      <td>4.767429</td>\n",
       "    </tr>\n",
       "    <tr>\n",
       "      <th>41170</th>\n",
       "      <td>41170</td>\n",
       "      <td>0</td>\n",
       "      <td>35.867175</td>\n",
       "      <td>-5.826067</td>\n",
       "    </tr>\n",
       "    <tr>\n",
       "      <th>41171</th>\n",
       "      <td>41171</td>\n",
       "      <td>0</td>\n",
       "      <td>-144.605050</td>\n",
       "      <td>7.906878</td>\n",
       "    </tr>\n",
       "    <tr>\n",
       "      <th>41172</th>\n",
       "      <td>41172</td>\n",
       "      <td>1</td>\n",
       "      <td>95.692642</td>\n",
       "      <td>-10.407801</td>\n",
       "    </tr>\n",
       "    <tr>\n",
       "      <th>41173</th>\n",
       "      <td>41173</td>\n",
       "      <td>1</td>\n",
       "      <td>71.763701</td>\n",
       "      <td>-8.520108</td>\n",
       "    </tr>\n",
       "    <tr>\n",
       "      <th>41174</th>\n",
       "      <td>41174</td>\n",
       "      <td>2</td>\n",
       "      <td>24.764771</td>\n",
       "      <td>982.721877</td>\n",
       "    </tr>\n",
       "    <tr>\n",
       "      <th>41175</th>\n",
       "      <td>41175</td>\n",
       "      <td>0</td>\n",
       "      <td>-76.803323</td>\n",
       "      <td>2.746880</td>\n",
       "    </tr>\n",
       "    <tr>\n",
       "      <th>41176</th>\n",
       "      <td>41176</td>\n",
       "      <td>1</td>\n",
       "      <td>102.672569</td>\n",
       "      <td>-10.926339</td>\n",
       "    </tr>\n",
       "    <tr>\n",
       "      <th>41177</th>\n",
       "      <td>41177</td>\n",
       "      <td>0</td>\n",
       "      <td>-132.642815</td>\n",
       "      <td>7.035911</td>\n",
       "    </tr>\n",
       "    <tr>\n",
       "      <th>41178</th>\n",
       "      <td>41178</td>\n",
       "      <td>2</td>\n",
       "      <td>298.592914</td>\n",
       "      <td>956.906432</td>\n",
       "    </tr>\n",
       "    <tr>\n",
       "      <th>41179</th>\n",
       "      <td>41179</td>\n",
       "      <td>0</td>\n",
       "      <td>-105.718870</td>\n",
       "      <td>5.000577</td>\n",
       "    </tr>\n",
       "    <tr>\n",
       "      <th>41180</th>\n",
       "      <td>41180</td>\n",
       "      <td>0</td>\n",
       "      <td>-3.019266</td>\n",
       "      <td>-2.878924</td>\n",
       "    </tr>\n",
       "    <tr>\n",
       "      <th>41181</th>\n",
       "      <td>41181</td>\n",
       "      <td>0</td>\n",
       "      <td>23.902800</td>\n",
       "      <td>-4.927074</td>\n",
       "    </tr>\n",
       "    <tr>\n",
       "      <th>41182</th>\n",
       "      <td>41182</td>\n",
       "      <td>2</td>\n",
       "      <td>-71.547302</td>\n",
       "      <td>982.070460</td>\n",
       "    </tr>\n",
       "    <tr>\n",
       "      <th>41183</th>\n",
       "      <td>41183</td>\n",
       "      <td>1</td>\n",
       "      <td>76.749567</td>\n",
       "      <td>-8.881608</td>\n",
       "    </tr>\n",
       "    <tr>\n",
       "      <th>41184</th>\n",
       "      <td>41184</td>\n",
       "      <td>1</td>\n",
       "      <td>125.605867</td>\n",
       "      <td>-12.658104</td>\n",
       "    </tr>\n",
       "    <tr>\n",
       "      <th>41185</th>\n",
       "      <td>41185</td>\n",
       "      <td>0</td>\n",
       "      <td>-67.829280</td>\n",
       "      <td>2.100080</td>\n",
       "    </tr>\n",
       "    <tr>\n",
       "      <th>41186</th>\n",
       "      <td>41186</td>\n",
       "      <td>1</td>\n",
       "      <td>184.433218</td>\n",
       "      <td>-17.139227</td>\n",
       "    </tr>\n",
       "    <tr>\n",
       "      <th>41187</th>\n",
       "      <td>41187</td>\n",
       "      <td>0</td>\n",
       "      <td>-17.974974</td>\n",
       "      <td>-1.664070</td>\n",
       "    </tr>\n",
       "  </tbody>\n",
       "</table>\n",
       "<p>41188 rows × 4 columns</p>\n",
       "</div>"
      ],
      "text/plain": [
       "       index  cluster_label            x           y\n",
       "0          0              0    -0.451762  -39.974343\n",
       "1          1              0  -112.125759  -31.460844\n",
       "2          2              0   -35.351146  -37.348093\n",
       "3          3              0  -110.131615  -31.650348\n",
       "4          4              0    45.413537  -43.464684\n",
       "5          5              0   -63.269039  -35.206652\n",
       "6          6              0  -122.096224  -30.700013\n",
       "7          7              0   -44.324713  -36.658217\n",
       "8          8              1   118.198973  -49.068957\n",
       "9          9              0  -210.838462  -24.001602\n",
       "10        10              0  -205.852367  -24.352262\n",
       "11        11              0   -39.339964  -37.067184\n",
       "12        12              0  -124.091509  -30.606204\n",
       "13        13              0    31.454896  -42.403213\n",
       "14        14              0  -115.117369  -31.279438\n",
       "15        15              0   -87.198601  -33.367230\n",
       "16        16              1    50.398623  -43.889244\n",
       "17        17              1   178.025848  -53.591510\n",
       "18        18              1    91.279611  -46.974312\n",
       "19        19              0   -66.260316  -34.991864\n",
       "20        20              0  -222.803439  -23.079018\n",
       "21        21              0     0.545335  -40.053404\n",
       "22        22              1    80.311562  -46.126149\n",
       "23        23              0   -80.219873  -33.920817\n",
       "24        24              0   -89.193228  -33.250064\n",
       "25        25              0  -161.981328  -27.702011\n",
       "26        26              0  -167.962959  -27.199374\n",
       "27        27              0   -28.371277  -37.877449\n",
       "28        28              0    -6.436161  -39.516482\n",
       "29        29              1   100.252507  -47.640725\n",
       "...      ...            ...          ...         ...\n",
       "41158  41158              1   105.663651  -11.158445\n",
       "41159  41159              2   329.281153  951.548881\n",
       "41160  41160              3   584.264048  -47.625961\n",
       "41161  41161              1   252.234952  -22.329535\n",
       "41162  41162              2   163.137573  969.192877\n",
       "41163  41163              2   201.024449  966.263415\n",
       "41164  41164              3  1679.259356  847.740134\n",
       "41165  41165              1   145.546146  -14.191962\n",
       "41166  41166              1   392.823847  -33.042326\n",
       "41167  41167              0   -20.967806   -1.519922\n",
       "41168  41168              0  -112.698587    5.481941\n",
       "41169  41169              0  -102.729204    4.767429\n",
       "41170  41170              0    35.867175   -5.826067\n",
       "41171  41171              0  -144.605050    7.906878\n",
       "41172  41172              1    95.692642  -10.407801\n",
       "41173  41173              1    71.763701   -8.520108\n",
       "41174  41174              2    24.764771  982.721877\n",
       "41175  41175              0   -76.803323    2.746880\n",
       "41176  41176              1   102.672569  -10.926339\n",
       "41177  41177              0  -132.642815    7.035911\n",
       "41178  41178              2   298.592914  956.906432\n",
       "41179  41179              0  -105.718870    5.000577\n",
       "41180  41180              0    -3.019266   -2.878924\n",
       "41181  41181              0    23.902800   -4.927074\n",
       "41182  41182              2   -71.547302  982.070460\n",
       "41183  41183              1    76.749567   -8.881608\n",
       "41184  41184              1   125.605867  -12.658104\n",
       "41185  41185              0   -67.829280    2.100080\n",
       "41186  41186              1   184.433218  -17.139227\n",
       "41187  41187              0   -17.974974   -1.664070\n",
       "\n",
       "[41188 rows x 4 columns]"
      ]
     },
     "execution_count": 57,
     "metadata": {},
     "output_type": "execute_result"
    }
   ],
   "source": [
    "#your turn\n",
    "# Initialize pca with 2 components\n",
    "from sklearn.decomposition import PCA\n",
    "pca = PCA(n_components=4)\n",
    "\n",
    "# Begin building dataframe\n",
    "df_pca = pd.DataFrame(np.array(data.index))\n",
    "\n",
    "# Initialize clusterer using 3 clusters, fit and predict on x_cols \n",
    "clusterer = KMeans(n_clusters=4, random_state=10)\n",
    "clusterer.fit_predict(x_cols)\n",
    "\n",
    "# Continue building dataframe\n",
    "df_pca['cluster_label'] = pd.DataFrame(clusterer.fit_predict(x_cols)) \n",
    "df_pca['x'] = pd.DataFrame(pca.fit_transform(x_cols)).iloc[:,0]\n",
    "df_pca['y'] = pd.DataFrame(pca.fit_transform(x_cols)).iloc[:,1]\n",
    "df_pca.columns = ['index', 'cluster_label', 'x', 'y']\n",
    "df_pca"
   ]
  },
  {
   "cell_type": "code",
   "execution_count": 58,
   "metadata": {
    "collapsed": true
   },
   "outputs": [],
   "source": [
    "#set style of plots\n",
    "sns.set(style='white', palette='muted')"
   ]
  },
  {
   "cell_type": "code",
   "execution_count": 61,
   "metadata": {},
   "outputs": [
    {
     "data": {
      "image/png": "[encoded data removed]",
      "text/plain": [
       "<matplotlib.figure.Figure at 0x1a2a710518>"
      ]
     },
     "metadata": {},
     "output_type": "display_data"
    },
    {
     "data": {
      "image/png": "[encoded data removed]",
      "text/plain": [
       "<matplotlib.figure.Figure at 0x1a0ff98e80>"
      ]
     },
     "metadata": {},
     "output_type": "display_data"
    },
    {
     "data": {
      "image/png": "[encoded data removed]",
      "text/plain": [
       "<matplotlib.figure.Figure at 0x1a1a992cf8>"
      ]
     },
     "metadata": {},
     "output_type": "display_data"
    }
   ],
   "source": [
    "#plot data with seaborn\n",
    "ax = sns.lmplot(data=df_pca, x='x', y='y', hue='cluster_label', \n",
    "                   fit_reg=False, legend=True, legend_out=True)\n",
    "_ = ax.set_axis_labels(\"Component 1\", \"Component 2\")\n",
    "\n",
    "# _ = plt.scatter(df_pca['x'], df_pca['y'], c=df_pca['cluster_label'], edgecolors='k')\n",
    "# _ = plt.xlabel('Component 1')\n",
    "# _ = plt.ylabel('Component 2')\n",
    "# _ = plt.title('PCA Components')\n",
    "plt.show()"
   ]
  },
  {
   "cell_type": "code",
   "execution_count": 63,
   "metadata": {},
   "outputs": [
    {
     "name": "stdout",
     "output_type": "stream",
     "text": [
      "<class 'pandas.core.frame.DataFrame'>\n",
      "RangeIndex: 41188 entries, 0 to 41187\n",
      "Data columns (total 4 columns):\n",
      "index            41188 non-null int64\n",
      "cluster_label    41188 non-null int32\n",
      "x                41188 non-null float64\n",
      "y                41188 non-null float64\n",
      "dtypes: float64(2), int32(1), int64(1)\n",
      "memory usage: 1.1 MB\n"
     ]
    }
   ],
   "source": [
    "df_pca.info()"
   ]
  },
  {
   "cell_type": "code",
   "execution_count": 64,
   "metadata": {},
   "outputs": [
    {
     "name": "stdout",
     "output_type": "stream",
     "text": [
      "<class 'pandas.core.frame.DataFrame'>\n",
      "RangeIndex: 41188 entries, 0 to 41187\n",
      "Data columns (total 17 columns):\n",
      "age               41188 non-null int64\n",
      "job               41188 non-null int64\n",
      "duration          41188 non-null int64\n",
      "marital           41188 non-null int64\n",
      "education         41188 non-null int64\n",
      "campaign          41188 non-null int64\n",
      "pdays             41188 non-null int64\n",
      "previous          41188 non-null int64\n",
      "poutcome          41188 non-null int64\n",
      "emp.var.rate      41188 non-null float64\n",
      "cons.price.idx    41188 non-null float64\n",
      "cons.conf.idx     41188 non-null float64\n",
      "euribor3m         41188 non-null float64\n",
      "nr.employed       41188 non-null float64\n",
      "default           41188 non-null int64\n",
      "loan              41188 non-null int64\n",
      "housing           41188 non-null int64\n",
      "dtypes: float64(5), int64(12)\n",
      "memory usage: 5.3 MB\n"
     ]
    }
   ],
   "source": [
    "data.info()"
   ]
  },
  {
   "cell_type": "code",
   "execution_count": 65,
   "metadata": {},
   "outputs": [
    {
     "data": {
      "text/html": [
       "<div>\n",
       "<style>\n",
       "    .dataframe thead tr:only-child th {\n",
       "        text-align: right;\n",
       "    }\n",
       "\n",
       "    .dataframe thead th {\n",
       "        text-align: left;\n",
       "    }\n",
       "\n",
       "    .dataframe tbody tr th {\n",
       "        vertical-align: top;\n",
       "    }\n",
       "</style>\n",
       "<table border=\"1\" class=\"dataframe\">\n",
       "  <thead>\n",
       "    <tr style=\"text-align: right;\">\n",
       "      <th></th>\n",
       "      <th>age</th>\n",
       "      <th>job</th>\n",
       "      <th>duration</th>\n",
       "      <th>marital</th>\n",
       "      <th>education</th>\n",
       "      <th>campaign</th>\n",
       "      <th>pdays</th>\n",
       "      <th>previous</th>\n",
       "      <th>poutcome</th>\n",
       "      <th>emp.var.rate</th>\n",
       "      <th>cons.price.idx</th>\n",
       "      <th>cons.conf.idx</th>\n",
       "      <th>euribor3m</th>\n",
       "      <th>nr.employed</th>\n",
       "      <th>default</th>\n",
       "      <th>loan</th>\n",
       "      <th>housing</th>\n",
       "    </tr>\n",
       "  </thead>\n",
       "  <tbody>\n",
       "    <tr>\n",
       "      <th>0</th>\n",
       "      <td>56</td>\n",
       "      <td>3</td>\n",
       "      <td>261</td>\n",
       "      <td>1</td>\n",
       "      <td>0</td>\n",
       "      <td>1</td>\n",
       "      <td>999</td>\n",
       "      <td>0</td>\n",
       "      <td>1</td>\n",
       "      <td>1.1</td>\n",
       "      <td>93.994</td>\n",
       "      <td>-36.4</td>\n",
       "      <td>4.857</td>\n",
       "      <td>5191.0</td>\n",
       "      <td>0</td>\n",
       "      <td>0</td>\n",
       "      <td>0</td>\n",
       "    </tr>\n",
       "    <tr>\n",
       "      <th>1</th>\n",
       "      <td>57</td>\n",
       "      <td>7</td>\n",
       "      <td>149</td>\n",
       "      <td>1</td>\n",
       "      <td>3</td>\n",
       "      <td>1</td>\n",
       "      <td>999</td>\n",
       "      <td>0</td>\n",
       "      <td>1</td>\n",
       "      <td>1.1</td>\n",
       "      <td>93.994</td>\n",
       "      <td>-36.4</td>\n",
       "      <td>4.857</td>\n",
       "      <td>5191.0</td>\n",
       "      <td>1</td>\n",
       "      <td>0</td>\n",
       "      <td>0</td>\n",
       "    </tr>\n",
       "    <tr>\n",
       "      <th>2</th>\n",
       "      <td>37</td>\n",
       "      <td>7</td>\n",
       "      <td>226</td>\n",
       "      <td>1</td>\n",
       "      <td>3</td>\n",
       "      <td>1</td>\n",
       "      <td>999</td>\n",
       "      <td>0</td>\n",
       "      <td>1</td>\n",
       "      <td>1.1</td>\n",
       "      <td>93.994</td>\n",
       "      <td>-36.4</td>\n",
       "      <td>4.857</td>\n",
       "      <td>5191.0</td>\n",
       "      <td>0</td>\n",
       "      <td>0</td>\n",
       "      <td>2</td>\n",
       "    </tr>\n",
       "    <tr>\n",
       "      <th>3</th>\n",
       "      <td>40</td>\n",
       "      <td>0</td>\n",
       "      <td>151</td>\n",
       "      <td>1</td>\n",
       "      <td>1</td>\n",
       "      <td>1</td>\n",
       "      <td>999</td>\n",
       "      <td>0</td>\n",
       "      <td>1</td>\n",
       "      <td>1.1</td>\n",
       "      <td>93.994</td>\n",
       "      <td>-36.4</td>\n",
       "      <td>4.857</td>\n",
       "      <td>5191.0</td>\n",
       "      <td>0</td>\n",
       "      <td>0</td>\n",
       "      <td>0</td>\n",
       "    </tr>\n",
       "    <tr>\n",
       "      <th>4</th>\n",
       "      <td>56</td>\n",
       "      <td>7</td>\n",
       "      <td>307</td>\n",
       "      <td>1</td>\n",
       "      <td>3</td>\n",
       "      <td>1</td>\n",
       "      <td>999</td>\n",
       "      <td>0</td>\n",
       "      <td>1</td>\n",
       "      <td>1.1</td>\n",
       "      <td>93.994</td>\n",
       "      <td>-36.4</td>\n",
       "      <td>4.857</td>\n",
       "      <td>5191.0</td>\n",
       "      <td>0</td>\n",
       "      <td>2</td>\n",
       "      <td>0</td>\n",
       "    </tr>\n",
       "  </tbody>\n",
       "</table>\n",
       "</div>"
      ],
      "text/plain": [
       "   age  job  duration  marital  education  campaign  pdays  previous  \\\n",
       "0   56    3       261        1          0         1    999         0   \n",
       "1   57    7       149        1          3         1    999         0   \n",
       "2   37    7       226        1          3         1    999         0   \n",
       "3   40    0       151        1          1         1    999         0   \n",
       "4   56    7       307        1          3         1    999         0   \n",
       "\n",
       "   poutcome  emp.var.rate  cons.price.idx  cons.conf.idx  euribor3m  \\\n",
       "0         1           1.1          93.994          -36.4      4.857   \n",
       "1         1           1.1          93.994          -36.4      4.857   \n",
       "2         1           1.1          93.994          -36.4      4.857   \n",
       "3         1           1.1          93.994          -36.4      4.857   \n",
       "4         1           1.1          93.994          -36.4      4.857   \n",
       "\n",
       "   nr.employed  default  loan  housing  \n",
       "0       5191.0        0     0        0  \n",
       "1       5191.0        1     0        0  \n",
       "2       5191.0        0     0        2  \n",
       "3       5191.0        0     0        0  \n",
       "4       5191.0        0     2        0  "
      ]
     },
     "execution_count": 65,
     "metadata": {},
     "output_type": "execute_result"
    }
   ],
   "source": [
    "data.head()"
   ]
  },
  {
   "cell_type": "code",
   "execution_count": 70,
   "metadata": {
    "collapsed": true
   },
   "outputs": [],
   "source": [
    "data.columns = ['index','age','job''duration','marital','education','campaign','pdays','previous','poutcome','emp.var.rate','cons.price.idx','cons.conf.idx','euribor3m','nr.employed','default','loan','housing']           \n",
    "    "
   ]
  },
  {
   "cell_type": "code",
   "execution_count": 71,
   "metadata": {},
   "outputs": [
    {
     "data": {
      "text/html": [
       "<div>\n",
       "<style>\n",
       "    .dataframe thead tr:only-child th {\n",
       "        text-align: right;\n",
       "    }\n",
       "\n",
       "    .dataframe thead th {\n",
       "        text-align: left;\n",
       "    }\n",
       "\n",
       "    .dataframe tbody tr th {\n",
       "        vertical-align: top;\n",
       "    }\n",
       "</style>\n",
       "<table border=\"1\" class=\"dataframe\">\n",
       "  <thead>\n",
       "    <tr style=\"text-align: right;\">\n",
       "      <th></th>\n",
       "      <th>index</th>\n",
       "      <th>age</th>\n",
       "      <th>jobduration</th>\n",
       "      <th>marital</th>\n",
       "      <th>education</th>\n",
       "      <th>campaign</th>\n",
       "      <th>pdays</th>\n",
       "      <th>previous</th>\n",
       "      <th>poutcome</th>\n",
       "      <th>emp.var.rate</th>\n",
       "      <th>cons.price.idx</th>\n",
       "      <th>cons.conf.idx</th>\n",
       "      <th>euribor3m</th>\n",
       "      <th>nr.employed</th>\n",
       "      <th>default</th>\n",
       "      <th>loan</th>\n",
       "      <th>housing</th>\n",
       "    </tr>\n",
       "  </thead>\n",
       "  <tbody>\n",
       "    <tr>\n",
       "      <th>0</th>\n",
       "      <td>56</td>\n",
       "      <td>3</td>\n",
       "      <td>261</td>\n",
       "      <td>1</td>\n",
       "      <td>0</td>\n",
       "      <td>1</td>\n",
       "      <td>999</td>\n",
       "      <td>0</td>\n",
       "      <td>1</td>\n",
       "      <td>1.1</td>\n",
       "      <td>93.994</td>\n",
       "      <td>-36.4</td>\n",
       "      <td>4.857</td>\n",
       "      <td>5191.0</td>\n",
       "      <td>0</td>\n",
       "      <td>0</td>\n",
       "      <td>0</td>\n",
       "    </tr>\n",
       "    <tr>\n",
       "      <th>1</th>\n",
       "      <td>57</td>\n",
       "      <td>7</td>\n",
       "      <td>149</td>\n",
       "      <td>1</td>\n",
       "      <td>3</td>\n",
       "      <td>1</td>\n",
       "      <td>999</td>\n",
       "      <td>0</td>\n",
       "      <td>1</td>\n",
       "      <td>1.1</td>\n",
       "      <td>93.994</td>\n",
       "      <td>-36.4</td>\n",
       "      <td>4.857</td>\n",
       "      <td>5191.0</td>\n",
       "      <td>1</td>\n",
       "      <td>0</td>\n",
       "      <td>0</td>\n",
       "    </tr>\n",
       "    <tr>\n",
       "      <th>2</th>\n",
       "      <td>37</td>\n",
       "      <td>7</td>\n",
       "      <td>226</td>\n",
       "      <td>1</td>\n",
       "      <td>3</td>\n",
       "      <td>1</td>\n",
       "      <td>999</td>\n",
       "      <td>0</td>\n",
       "      <td>1</td>\n",
       "      <td>1.1</td>\n",
       "      <td>93.994</td>\n",
       "      <td>-36.4</td>\n",
       "      <td>4.857</td>\n",
       "      <td>5191.0</td>\n",
       "      <td>0</td>\n",
       "      <td>0</td>\n",
       "      <td>2</td>\n",
       "    </tr>\n",
       "    <tr>\n",
       "      <th>3</th>\n",
       "      <td>40</td>\n",
       "      <td>0</td>\n",
       "      <td>151</td>\n",
       "      <td>1</td>\n",
       "      <td>1</td>\n",
       "      <td>1</td>\n",
       "      <td>999</td>\n",
       "      <td>0</td>\n",
       "      <td>1</td>\n",
       "      <td>1.1</td>\n",
       "      <td>93.994</td>\n",
       "      <td>-36.4</td>\n",
       "      <td>4.857</td>\n",
       "      <td>5191.0</td>\n",
       "      <td>0</td>\n",
       "      <td>0</td>\n",
       "      <td>0</td>\n",
       "    </tr>\n",
       "    <tr>\n",
       "      <th>4</th>\n",
       "      <td>56</td>\n",
       "      <td>7</td>\n",
       "      <td>307</td>\n",
       "      <td>1</td>\n",
       "      <td>3</td>\n",
       "      <td>1</td>\n",
       "      <td>999</td>\n",
       "      <td>0</td>\n",
       "      <td>1</td>\n",
       "      <td>1.1</td>\n",
       "      <td>93.994</td>\n",
       "      <td>-36.4</td>\n",
       "      <td>4.857</td>\n",
       "      <td>5191.0</td>\n",
       "      <td>0</td>\n",
       "      <td>2</td>\n",
       "      <td>0</td>\n",
       "    </tr>\n",
       "  </tbody>\n",
       "</table>\n",
       "</div>"
      ],
      "text/plain": [
       "   index  age  jobduration  marital  education  campaign  pdays  previous  \\\n",
       "0     56    3          261        1          0         1    999         0   \n",
       "1     57    7          149        1          3         1    999         0   \n",
       "2     37    7          226        1          3         1    999         0   \n",
       "3     40    0          151        1          1         1    999         0   \n",
       "4     56    7          307        1          3         1    999         0   \n",
       "\n",
       "   poutcome  emp.var.rate  cons.price.idx  cons.conf.idx  euribor3m  \\\n",
       "0         1           1.1          93.994          -36.4      4.857   \n",
       "1         1           1.1          93.994          -36.4      4.857   \n",
       "2         1           1.1          93.994          -36.4      4.857   \n",
       "3         1           1.1          93.994          -36.4      4.857   \n",
       "4         1           1.1          93.994          -36.4      4.857   \n",
       "\n",
       "   nr.employed  default  loan  housing  \n",
       "0       5191.0        0     0        0  \n",
       "1       5191.0        1     0        0  \n",
       "2       5191.0        0     0        2  \n",
       "3       5191.0        0     0        0  \n",
       "4       5191.0        0     2        0  "
      ]
     },
     "execution_count": 71,
     "metadata": {},
     "output_type": "execute_result"
    }
   ],
   "source": [
    "data.head()"
   ]
  },
  {
   "cell_type": "code",
   "execution_count": 69,
   "metadata": {},
   "outputs": [
    {
     "ename": "NameError",
     "evalue": "name 'index' is not defined",
     "output_type": "error",
     "traceback": [
      "\u001b[0;31m---------------------------------------------------------------------------\u001b[0m",
      "\u001b[0;31mNameError\u001b[0m                                 Traceback (most recent call last)",
      "\u001b[0;32m<ipython-input-69-880801d3b486>\u001b[0m in \u001b[0;36m<module>\u001b[0;34m()\u001b[0m\n\u001b[0;32m----> 1\u001b[0;31m \u001b[0mdf_new\u001b[0m \u001b[0;34m=\u001b[0m \u001b[0mpd\u001b[0m\u001b[0;34m.\u001b[0m\u001b[0mmerge_ordered\u001b[0m\u001b[0;34m(\u001b[0m\u001b[0mdata\u001b[0m\u001b[0;34m,\u001b[0m \u001b[0mdf_pca\u001b[0m\u001b[0;34m,\u001b[0m \u001b[0mhow\u001b[0m\u001b[0;34m=\u001b[0m\u001b[0;34m'outer'\u001b[0m\u001b[0;34m,\u001b[0m\u001b[0mon\u001b[0m\u001b[0;34m=\u001b[0m \u001b[0mindex\u001b[0m\u001b[0;34m)\u001b[0m\u001b[0;34m\u001b[0m\u001b[0m\n\u001b[0m",
      "\u001b[0;31mNameError\u001b[0m: name 'index' is not defined"
     ]
    }
   ],
   "source": [
    "df_new = pd.merge_ordered(data, df_pca, how='outer',on= index)"
   ]
  },
  {
   "cell_type": "code",
   "execution_count": null,
   "metadata": {
    "collapsed": true
   },
   "outputs": [],
   "source": [
    "_ = pd.crosstab(df_new['cluster_label'], df_new['campaign']).plot(kind='bar', figsize=(8,5))\n",
    "_ = plt.title('Campaign')\n",
    "_ = plt.xlabel('Cluster')\n",
    "_ = plt.xticks(range(0,3), ('0', '1', '2'), rotation=0) \n",
    "_ = plt.ylabel('Count')\n"
   ]
  }
 ],
 "metadata": {
  "kernelspec": {
   "display_name": "Python 3",
   "language": "python",
   "name": "python3"
  },
  "language_info": {
   "codemirror_mode": {
    "name": "ipython",
    "version": 3
   },
   "file_extension": ".py",
   "mimetype": "text/x-python",
   "name": "python",
   "nbconvert_exporter": "python",
   "pygments_lexer": "ipython3",
   "version": "3.6.3"
  }
 },
 "nbformat": 4,
 "nbformat_minor": 2
}
